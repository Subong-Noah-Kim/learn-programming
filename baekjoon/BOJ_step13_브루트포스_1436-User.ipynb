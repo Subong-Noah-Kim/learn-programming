{
 "cells": [
  {
   "cell_type": "code",
   "execution_count": 1,
   "metadata": {},
   "outputs": [
    {
     "data": {
      "text/plain": [
       "16660"
      ]
     },
     "execution_count": 1,
     "metadata": {},
     "output_type": "execute_result"
    }
   ],
   "source": [
    " 666\n",
    "1666\n",
    "9666\n",
    "10666\n",
    "11666\n",
    "15666\n",
    "16666\n",
    "17666\n",
    "16660"
   ]
  },
  {
   "cell_type": "code",
   "execution_count": null,
   "metadata": {},
   "outputs": [],
   "source": [
    "# 3자리 : 666 (1)\n",
    "# 4자리 : 1666~9666 (9)\n",
    "# 5자리 : 10666~96669\n",
    "  # 1*666, *:0~5 (6)\n",
    "  # 1666*, *:0~9 (10)\n",
    "  # 1*666, *:6~9 (4)\n",
    "  # 2*666 ~반복\n"
   ]
  }
 ],
 "metadata": {
  "kernelspec": {
   "display_name": "Python 3",
   "language": "python",
   "name": "python3"
  },
  "language_info": {
   "codemirror_mode": {
    "name": "ipython",
    "version": 3
   },
   "file_extension": ".py",
   "mimetype": "text/x-python",
   "name": "python",
   "nbconvert_exporter": "python",
   "pygments_lexer": "ipython3",
   "version": "3.7.3"
  }
 },
 "nbformat": 4,
 "nbformat_minor": 2
}
