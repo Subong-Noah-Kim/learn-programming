{
  "nbformat": 4,
  "nbformat_minor": 0,
  "metadata": {
    "colab": {
      "name": "cloning_github.ipynb",
      "provenance": [],
      "authorship_tag": "ABX9TyMoaIMbirBJRnQOMYKQgWZd",
      "include_colab_link": true
    },
    "kernelspec": {
      "name": "python3",
      "display_name": "Python 3"
    }
  },
  "cells": [
    {
      "cell_type": "markdown",
      "metadata": {
        "id": "view-in-github",
        "colab_type": "text"
      },
      "source": [
        "<a href=\"https://colab.research.google.com/github/Subong-Noah-Kim/study-programming/blob/master/colab/cloning_github.ipynb\" target=\"_parent\"><img src=\"https://colab.research.google.com/assets/colab-badge.svg\" alt=\"Open In Colab\"/></a>"
      ]
    },
    {
      "cell_type": "code",
      "metadata": {
        "id": "uIkGSPN6Yujx",
        "colab_type": "code",
        "outputId": "e3f3526e-297b-4467-f1d7-aeddcf3c2533",
        "colab": {
          "base_uri": "https://localhost:8080/",
          "height": 35
        }
      },
      "source": [
        "!git clone https://github.com/Subong-Noah-Kim/study-programming.git"
      ],
      "execution_count": 0,
      "outputs": [
        {
          "output_type": "stream",
          "text": [
            "fatal: destination path 'study-programming' already exists and is not an empty directory.\n"
          ],
          "name": "stdout"
        }
      ]
    },
    {
      "cell_type": "code",
      "metadata": {
        "id": "aNPFMx8ripac",
        "colab_type": "code",
        "outputId": "9d2a7a20-513e-4462-bd31-e472613115b5",
        "colab": {
          "base_uri": "https://localhost:8080/",
          "height": 71
        }
      },
      "source": [
        "!ls -ltr"
      ],
      "execution_count": 0,
      "outputs": [
        {
          "output_type": "stream",
          "text": [
            "total 8\n",
            "drwxr-xr-x 1 root root 4096 Feb  5 18:37 sample_data\n",
            "drwxr-xr-x 7 root root 4096 Feb 14 11:52 study-programming\n"
          ],
          "name": "stdout"
        }
      ]
    },
    {
      "cell_type": "code",
      "metadata": {
        "id": "mgwAHybdnVVO",
        "colab_type": "code",
        "outputId": "d261535a-332e-4ccb-bc7e-8b0f4b9e5660",
        "colab": {
          "base_uri": "https://localhost:8080/",
          "height": 136
        }
      },
      "source": [
        "cd study-programming/\n",
        "ls"
      ],
      "execution_count": 0,
      "outputs": [
        {
          "output_type": "error",
          "ename": "SyntaxError",
          "evalue": "ignored",
          "traceback": [
            "\u001b[0;36m  File \u001b[0;32m\"<ipython-input-22-8080637f3e0a>\"\u001b[0;36m, line \u001b[0;32m1\u001b[0m\n\u001b[0;31m    cd study-programming/\u001b[0m\n\u001b[0m           ^\u001b[0m\n\u001b[0;31mSyntaxError\u001b[0m\u001b[0;31m:\u001b[0m invalid syntax\n"
          ]
        }
      ]
    },
    {
      "cell_type": "code",
      "metadata": {
        "id": "nlN1A1FEn92a",
        "colab_type": "code",
        "outputId": "9b561283-8a3d-4d1b-af45-95c5e5cfddb1",
        "colab": {
          "base_uri": "https://localhost:8080/",
          "height": 197
        }
      },
      "source": [
        "!git config --global user.name \"Subong-Noah-Kim\"\n",
        "!git config --global user.email \"bvbv5454@naver.com\"\n",
        "!git config --list"
      ],
      "execution_count": 0,
      "outputs": [
        {
          "output_type": "stream",
          "text": [
            "user.email=bvbv5454@naver.com\n",
            "user.name=Subong-Noah-Kim\n",
            "core.repositoryformatversion=0\n",
            "core.filemode=true\n",
            "core.bare=false\n",
            "core.logallrefupdates=true\n",
            "remote.origin.url=https://github.com/Subong-Noah-Kim/study-programming.git\n",
            "remote.origin.fetch=+refs/heads/*:refs/remotes/origin/*\n",
            "branch.master.remote=origin\n",
            "branch.master.merge=refs/heads/master\n"
          ],
          "name": "stdout"
        }
      ]
    },
    {
      "cell_type": "code",
      "metadata": {
        "id": "tjy6zcnOoSzn",
        "colab_type": "code",
        "outputId": "e8775e5d-e0b4-40db-c7bd-681c1d7af3fd",
        "colab": {
          "base_uri": "https://localhost:8080/",
          "height": 35
        }
      },
      "source": [
        "!git init"
      ],
      "execution_count": 0,
      "outputs": [
        {
          "output_type": "stream",
          "text": [
            "Reinitialized existing Git repository in /content/study-programming/.git/\n"
          ],
          "name": "stdout"
        }
      ]
    },
    {
      "cell_type": "code",
      "metadata": {
        "id": "GoSWO6Pzolpp",
        "colab_type": "code",
        "outputId": "a7584d78-41c3-4148-a50f-ef6b52b6746e",
        "colab": {
          "base_uri": "https://localhost:8080/",
          "height": 89
        }
      },
      "source": [
        "!git add .\n",
        "!git status"
      ],
      "execution_count": 0,
      "outputs": [
        {
          "output_type": "stream",
          "text": [
            "On branch master\n",
            "Your branch is up to date with 'origin/master'.\n",
            "\n",
            "nothing to commit, working tree clean\n"
          ],
          "name": "stdout"
        }
      ]
    },
    {
      "cell_type": "code",
      "metadata": {
        "id": "7zF-grjdo_0r",
        "colab_type": "code",
        "colab": {}
      },
      "source": [
        "# 깃허브 올리는건 그냥 [파일] - [깃허브에 사본 저장]에서 저장\n",
        "# colab/~~ 식으로 저장."
      ],
      "execution_count": 0,
      "outputs": []
    },
    {
      "cell_type": "code",
      "metadata": {
        "id": "a6B16W8vyIXs",
        "colab_type": "code",
        "colab": {
          "base_uri": "https://localhost:8080/",
          "height": 35
        },
        "outputId": "e7344a71-ceb8-498c-f779-17542190e3e6"
      },
      "source": [
        "!git remote add origin https://github.com/Subong-Noah-Kim/study-programming.git"
      ],
      "execution_count": 26,
      "outputs": [
        {
          "output_type": "stream",
          "text": [
            "fatal: remote origin already exists.\n"
          ],
          "name": "stdout"
        }
      ]
    },
    {
      "cell_type": "code",
      "metadata": {
        "id": "u336RVj02HV_",
        "colab_type": "code",
        "colab": {
          "base_uri": "https://localhost:8080/",
          "height": 53
        },
        "outputId": "fa17181c-d6e0-49e6-b6ee-71efcff61038"
      },
      "source": [
        "!git remote -v"
      ],
      "execution_count": 27,
      "outputs": [
        {
          "output_type": "stream",
          "text": [
            "origin\thttps://github.com/Subong-Noah-Kim/study-programming.git (fetch)\n",
            "origin\thttps://github.com/Subong-Noah-Kim/study-programming.git (push)\n"
          ],
          "name": "stdout"
        }
      ]
    },
    {
      "cell_type": "code",
      "metadata": {
        "id": "owFwuOlE2JBl",
        "colab_type": "code",
        "colab": {
          "base_uri": "https://localhost:8080/",
          "height": 251
        },
        "outputId": "80fbe0c7-9425-4ad9-dda5-2dcb01aff458"
      },
      "source": [
        "!git pull origin master"
      ],
      "execution_count": 28,
      "outputs": [
        {
          "output_type": "stream",
          "text": [
            "remote: Enumerating objects: 10, done.\u001b[K\n",
            "remote: Counting objects:  10% (1/10)\u001b[K\rremote: Counting objects:  20% (2/10)\u001b[K\rremote: Counting objects:  30% (3/10)\u001b[K\rremote: Counting objects:  40% (4/10)\u001b[K\rremote: Counting objects:  50% (5/10)\u001b[K\rremote: Counting objects:  60% (6/10)\u001b[K\rremote: Counting objects:  70% (7/10)\u001b[K\rremote: Counting objects:  80% (8/10)\u001b[K\rremote: Counting objects:  90% (9/10)\u001b[K\rremote: Counting objects: 100% (10/10)\u001b[K\rremote: Counting objects: 100% (10/10), done.\u001b[K\n",
            "remote: Compressing objects:  12% (1/8)\u001b[K\rremote: Compressing objects:  25% (2/8)\u001b[K\rremote: Compressing objects:  37% (3/8)\u001b[K\rremote: Compressing objects:  50% (4/8)\u001b[K\rremote: Compressing objects:  62% (5/8)\u001b[K\rremote: Compressing objects:  75% (6/8)\u001b[K\rremote: Compressing objects:  87% (7/8)\u001b[K\rremote: Compressing objects: 100% (8/8)\u001b[K\rremote: Compressing objects: 100% (8/8), done.\u001b[K\n",
            "remote: Total 8 (delta 3), reused 0 (delta 0), pack-reused 0\u001b[K\n",
            "Unpacking objects:  12% (1/8)   \rUnpacking objects:  25% (2/8)   \rUnpacking objects:  37% (3/8)   \rUnpacking objects:  50% (4/8)   \rUnpacking objects:  62% (5/8)   \rUnpacking objects:  75% (6/8)   \rUnpacking objects:  87% (7/8)   \rUnpacking objects: 100% (8/8)   \rUnpacking objects: 100% (8/8), done.\n",
            "From https://github.com/Subong-Noah-Kim/study-programming\n",
            " * branch            master     -> FETCH_HEAD\n",
            "   ad1e0ad..c129270  master     -> origin/master\n",
            "Updating ad1e0ad..c129270\n",
            "Fast-forward\n",
            " colab/cloning_github.ipynb | 223 \u001b[32m+++++++++++++++++++++++++++++++++++++++++++++\u001b[m\n",
            " 1 file changed, 223 insertions(+)\n",
            " create mode 100644 colab/cloning_github.ipynb\n"
          ],
          "name": "stdout"
        }
      ]
    },
    {
      "cell_type": "code",
      "metadata": {
        "id": "bySAFszV3mBl",
        "colab_type": "code",
        "colab": {}
      },
      "source": [
        "# 깃허브에 업로드(commit & push)는 [파일] - [깃허브에 사본 저장] 기능을 사용함."
      ],
      "execution_count": 0,
      "outputs": []
    }
  ]
}