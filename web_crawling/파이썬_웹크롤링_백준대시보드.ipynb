{
  "nbformat": 4,
  "nbformat_minor": 0,
  "metadata": {
    "colab": {
      "name": "파이썬_웹크롤링_백준대시보드.ipynb",
      "provenance": [],
      "collapsed_sections": [],
      "toc_visible": true,
      "authorship_tag": "ABX9TyMa3EPS97dsy6c7THjyAj9K",
      "include_colab_link": true
    },
    "kernelspec": {
      "name": "python3",
      "display_name": "Python 3"
    }
  },
  "cells": [
    {
      "cell_type": "markdown",
      "metadata": {
        "id": "view-in-github",
        "colab_type": "text"
      },
      "source": [
        "<a href=\"https://colab.research.google.com/github/Subong-Noah-Kim/study-programming/blob/master/web_crawling/%ED%8C%8C%EC%9D%B4%EC%8D%AC_%EC%9B%B9%ED%81%AC%EB%A1%A4%EB%A7%81_%EB%B0%B1%EC%A4%80%EB%8C%80%EC%8B%9C%EB%B3%B4%EB%93%9C.ipynb\" target=\"_parent\"><img src=\"https://colab.research.google.com/assets/colab-badge.svg\" alt=\"Open In Colab\"/></a>"
      ]
    },
    {
      "cell_type": "code",
      "metadata": {
        "id": "eJcSO2Vipsl8",
        "colab_type": "code",
        "colab": {
          "base_uri": "https://localhost:8080/",
          "height": 1000
        },
        "outputId": "8e06ccb9-b539-4364-c904-19a646161c19"
      },
      "source": [
        "# 로그인 - 셀레니움\n",
        "  # 코랩에서 셀레니움 사용을 위해 여러가지 설치함\n",
        "  # 아래 코드셀의 추가과정 필요\n",
        "!pip install selenium\n",
        "!apt-get update # to update ubuntu to correctly run apt install\n",
        "!apt install chromium-chromedriver\n",
        "!cp /usr/lib/chromium-browser/chromedriver /usr/bin\n",
        "\n",
        "!pip install html_table_parser"
      ],
      "execution_count": 4,
      "outputs": [
        {
          "output_type": "stream",
          "text": [
            "Collecting selenium\n",
            "\u001b[?25l  Downloading https://files.pythonhosted.org/packages/80/d6/4294f0b4bce4de0abf13e17190289f9d0613b0a44e5dd6a7f5ca98459853/selenium-3.141.0-py2.py3-none-any.whl (904kB)\n",
            "\r\u001b[K     |▍                               | 10kB 17.7MB/s eta 0:00:01\r\u001b[K     |▊                               | 20kB 2.1MB/s eta 0:00:01\r\u001b[K     |█                               | 30kB 3.1MB/s eta 0:00:01\r\u001b[K     |█▌                              | 40kB 2.1MB/s eta 0:00:01\r\u001b[K     |█▉                              | 51kB 2.6MB/s eta 0:00:01\r\u001b[K     |██▏                             | 61kB 3.0MB/s eta 0:00:01\r\u001b[K     |██▌                             | 71kB 3.5MB/s eta 0:00:01\r\u001b[K     |███                             | 81kB 4.0MB/s eta 0:00:01\r\u001b[K     |███▎                            | 92kB 4.4MB/s eta 0:00:01\r\u001b[K     |███▋                            | 102kB 3.3MB/s eta 0:00:01\r\u001b[K     |████                            | 112kB 3.3MB/s eta 0:00:01\r\u001b[K     |████▍                           | 122kB 3.3MB/s eta 0:00:01\r\u001b[K     |████▊                           | 133kB 3.3MB/s eta 0:00:01\r\u001b[K     |█████                           | 143kB 3.3MB/s eta 0:00:01\r\u001b[K     |█████▍                          | 153kB 3.3MB/s eta 0:00:01\r\u001b[K     |█████▉                          | 163kB 3.3MB/s eta 0:00:01\r\u001b[K     |██████▏                         | 174kB 3.3MB/s eta 0:00:01\r\u001b[K     |██████▌                         | 184kB 3.3MB/s eta 0:00:01\r\u001b[K     |██████▉                         | 194kB 3.3MB/s eta 0:00:01\r\u001b[K     |███████▎                        | 204kB 3.3MB/s eta 0:00:01\r\u001b[K     |███████▋                        | 215kB 3.3MB/s eta 0:00:01\r\u001b[K     |████████                        | 225kB 3.3MB/s eta 0:00:01\r\u001b[K     |████████▎                       | 235kB 3.3MB/s eta 0:00:01\r\u001b[K     |████████▊                       | 245kB 3.3MB/s eta 0:00:01\r\u001b[K     |█████████                       | 256kB 3.3MB/s eta 0:00:01\r\u001b[K     |█████████▍                      | 266kB 3.3MB/s eta 0:00:01\r\u001b[K     |█████████▉                      | 276kB 3.3MB/s eta 0:00:01\r\u001b[K     |██████████▏                     | 286kB 3.3MB/s eta 0:00:01\r\u001b[K     |██████████▌                     | 296kB 3.3MB/s eta 0:00:01\r\u001b[K     |██████████▉                     | 307kB 3.3MB/s eta 0:00:01\r\u001b[K     |███████████▎                    | 317kB 3.3MB/s eta 0:00:01\r\u001b[K     |███████████▋                    | 327kB 3.3MB/s eta 0:00:01\r\u001b[K     |████████████                    | 337kB 3.3MB/s eta 0:00:01\r\u001b[K     |████████████▎                   | 348kB 3.3MB/s eta 0:00:01\r\u001b[K     |████████████▊                   | 358kB 3.3MB/s eta 0:00:01\r\u001b[K     |█████████████                   | 368kB 3.3MB/s eta 0:00:01\r\u001b[K     |█████████████▍                  | 378kB 3.3MB/s eta 0:00:01\r\u001b[K     |█████████████▊                  | 389kB 3.3MB/s eta 0:00:01\r\u001b[K     |██████████████▏                 | 399kB 3.3MB/s eta 0:00:01\r\u001b[K     |██████████████▌                 | 409kB 3.3MB/s eta 0:00:01\r\u001b[K     |██████████████▉                 | 419kB 3.3MB/s eta 0:00:01\r\u001b[K     |███████████████▏                | 430kB 3.3MB/s eta 0:00:01\r\u001b[K     |███████████████▋                | 440kB 3.3MB/s eta 0:00:01\r\u001b[K     |████████████████                | 450kB 3.3MB/s eta 0:00:01\r\u001b[K     |████████████████▎               | 460kB 3.3MB/s eta 0:00:01\r\u001b[K     |████████████████▋               | 471kB 3.3MB/s eta 0:00:01\r\u001b[K     |█████████████████               | 481kB 3.3MB/s eta 0:00:01\r\u001b[K     |█████████████████▍              | 491kB 3.3MB/s eta 0:00:01\r\u001b[K     |█████████████████▊              | 501kB 3.3MB/s eta 0:00:01\r\u001b[K     |██████████████████▏             | 512kB 3.3MB/s eta 0:00:01\r\u001b[K     |██████████████████▌             | 522kB 3.3MB/s eta 0:00:01\r\u001b[K     |██████████████████▉             | 532kB 3.3MB/s eta 0:00:01\r\u001b[K     |███████████████████▏            | 542kB 3.3MB/s eta 0:00:01\r\u001b[K     |███████████████████▋            | 552kB 3.3MB/s eta 0:00:01\r\u001b[K     |████████████████████            | 563kB 3.3MB/s eta 0:00:01\r\u001b[K     |████████████████████▎           | 573kB 3.3MB/s eta 0:00:01\r\u001b[K     |████████████████████▋           | 583kB 3.3MB/s eta 0:00:01\r\u001b[K     |█████████████████████           | 593kB 3.3MB/s eta 0:00:01\r\u001b[K     |█████████████████████▍          | 604kB 3.3MB/s eta 0:00:01\r\u001b[K     |█████████████████████▊          | 614kB 3.3MB/s eta 0:00:01\r\u001b[K     |██████████████████████          | 624kB 3.3MB/s eta 0:00:01\r\u001b[K     |██████████████████████▌         | 634kB 3.3MB/s eta 0:00:01\r\u001b[K     |██████████████████████▉         | 645kB 3.3MB/s eta 0:00:01\r\u001b[K     |███████████████████████▏        | 655kB 3.3MB/s eta 0:00:01\r\u001b[K     |███████████████████████▌        | 665kB 3.3MB/s eta 0:00:01\r\u001b[K     |████████████████████████        | 675kB 3.3MB/s eta 0:00:01\r\u001b[K     |████████████████████████▎       | 686kB 3.3MB/s eta 0:00:01\r\u001b[K     |████████████████████████▋       | 696kB 3.3MB/s eta 0:00:01\r\u001b[K     |█████████████████████████       | 706kB 3.3MB/s eta 0:00:01\r\u001b[K     |█████████████████████████▍      | 716kB 3.3MB/s eta 0:00:01\r\u001b[K     |█████████████████████████▊      | 727kB 3.3MB/s eta 0:00:01\r\u001b[K     |██████████████████████████      | 737kB 3.3MB/s eta 0:00:01\r\u001b[K     |██████████████████████████▍     | 747kB 3.3MB/s eta 0:00:01\r\u001b[K     |██████████████████████████▉     | 757kB 3.3MB/s eta 0:00:01\r\u001b[K     |███████████████████████████▏    | 768kB 3.3MB/s eta 0:00:01\r\u001b[K     |███████████████████████████▌    | 778kB 3.3MB/s eta 0:00:01\r\u001b[K     |████████████████████████████    | 788kB 3.3MB/s eta 0:00:01\r\u001b[K     |████████████████████████████▎   | 798kB 3.3MB/s eta 0:00:01\r\u001b[K     |████████████████████████████▋   | 808kB 3.3MB/s eta 0:00:01\r\u001b[K     |█████████████████████████████   | 819kB 3.3MB/s eta 0:00:01\r\u001b[K     |█████████████████████████████▍  | 829kB 3.3MB/s eta 0:00:01\r\u001b[K     |█████████████████████████████▊  | 839kB 3.3MB/s eta 0:00:01\r\u001b[K     |██████████████████████████████  | 849kB 3.3MB/s eta 0:00:01\r\u001b[K     |██████████████████████████████▍ | 860kB 3.3MB/s eta 0:00:01\r\u001b[K     |██████████████████████████████▉ | 870kB 3.3MB/s eta 0:00:01\r\u001b[K     |███████████████████████████████▏| 880kB 3.3MB/s eta 0:00:01\r\u001b[K     |███████████████████████████████▌| 890kB 3.3MB/s eta 0:00:01\r\u001b[K     |███████████████████████████████▉| 901kB 3.3MB/s eta 0:00:01\r\u001b[K     |████████████████████████████████| 911kB 3.3MB/s \n",
            "\u001b[?25hRequirement already satisfied: urllib3 in /usr/local/lib/python3.6/dist-packages (from selenium) (1.24.3)\n",
            "Installing collected packages: selenium\n",
            "Successfully installed selenium-3.141.0\n",
            "Ign:1 https://developer.download.nvidia.com/compute/cuda/repos/ubuntu1804/x86_64  InRelease\n",
            "Hit:2 http://archive.ubuntu.com/ubuntu bionic InRelease\n",
            "Ign:3 https://developer.download.nvidia.com/compute/machine-learning/repos/ubuntu1804/x86_64  InRelease\n",
            "Hit:4 https://developer.download.nvidia.com/compute/cuda/repos/ubuntu1804/x86_64  Release\n",
            "Get:5 http://ppa.launchpad.net/graphics-drivers/ppa/ubuntu bionic InRelease [21.3 kB]\n",
            "Hit:6 https://developer.download.nvidia.com/compute/machine-learning/repos/ubuntu1804/x86_64  Release\n",
            "Get:7 http://archive.ubuntu.com/ubuntu bionic-updates InRelease [88.7 kB]\n",
            "Get:8 http://security.ubuntu.com/ubuntu bionic-security InRelease [88.7 kB]\n",
            "Get:9 http://ppa.launchpad.net/marutter/c2d4u3.5/ubuntu bionic InRelease [15.4 kB]\n",
            "Get:10 http://archive.ubuntu.com/ubuntu bionic-backports InRelease [74.6 kB]\n",
            "Get:13 http://ppa.launchpad.net/graphics-drivers/ppa/ubuntu bionic/main amd64 Packages [36.9 kB]\n",
            "Get:14 http://archive.ubuntu.com/ubuntu bionic-updates/restricted amd64 Packages [44.2 kB]\n",
            "Get:15 http://ppa.launchpad.net/marutter/c2d4u3.5/ubuntu bionic/main Sources [1,772 kB]\n",
            "Get:16 https://cloud.r-project.org/bin/linux/ubuntu bionic-cran35/ InRelease [3,626 B]\n",
            "Get:17 http://archive.ubuntu.com/ubuntu bionic-updates/universe amd64 Packages [1,349 kB]\n",
            "Get:18 http://security.ubuntu.com/ubuntu bionic-security/main amd64 Packages [817 kB]\n",
            "Get:19 http://archive.ubuntu.com/ubuntu bionic-updates/multiverse amd64 Packages [11.1 kB]\n",
            "Get:20 http://archive.ubuntu.com/ubuntu bionic-updates/main amd64 Packages [1,121 kB]\n",
            "Get:21 http://archive.ubuntu.com/ubuntu bionic-backports/universe amd64 Packages [4,252 B]\n",
            "Get:22 https://cloud.r-project.org/bin/linux/ubuntu bionic-cran35/ Packages [83.1 kB]\n",
            "Get:23 http://security.ubuntu.com/ubuntu bionic-security/universe amd64 Packages [818 kB]\n",
            "Get:24 http://security.ubuntu.com/ubuntu bionic-security/restricted amd64 Packages [27.5 kB]\n",
            "Get:25 http://security.ubuntu.com/ubuntu bionic-security/multiverse amd64 Packages [7,064 B]\n",
            "Get:26 http://ppa.launchpad.net/marutter/c2d4u3.5/ubuntu bionic/main amd64 Packages [856 kB]\n",
            "Fetched 7,239 kB in 3s (2,184 kB/s)\n",
            "Reading package lists... Done\n",
            "Reading package lists... Done\n",
            "Building dependency tree       \n",
            "Reading state information... Done\n",
            "The following package was automatically installed and is no longer required:\n",
            "  libnvidia-common-430\n",
            "Use 'apt autoremove' to remove it.\n",
            "The following additional packages will be installed:\n",
            "  chromium-browser chromium-browser-l10n chromium-codecs-ffmpeg-extra\n",
            "Suggested packages:\n",
            "  webaccounts-chromium-extension unity-chromium-extension adobe-flashplugin\n",
            "The following NEW packages will be installed:\n",
            "  chromium-browser chromium-browser-l10n chromium-chromedriver\n",
            "  chromium-codecs-ffmpeg-extra\n",
            "0 upgraded, 4 newly installed, 0 to remove and 101 not upgraded.\n",
            "Need to get 74.4 MB of archives.\n",
            "After this operation, 264 MB of additional disk space will be used.\n",
            "Get:1 http://archive.ubuntu.com/ubuntu bionic-updates/universe amd64 chromium-codecs-ffmpeg-extra amd64 80.0.3987.87-0ubuntu0.18.04.1 [1,095 kB]\n",
            "Get:2 http://archive.ubuntu.com/ubuntu bionic-updates/universe amd64 chromium-browser amd64 80.0.3987.87-0ubuntu0.18.04.1 [66.1 MB]\n",
            "Get:3 http://archive.ubuntu.com/ubuntu bionic-updates/universe amd64 chromium-browser-l10n all 80.0.3987.87-0ubuntu0.18.04.1 [3,155 kB]\n",
            "Get:4 http://archive.ubuntu.com/ubuntu bionic-updates/universe amd64 chromium-chromedriver amd64 80.0.3987.87-0ubuntu0.18.04.1 [4,044 kB]\n",
            "Fetched 74.4 MB in 4s (20.6 MB/s)\n",
            "Selecting previously unselected package chromium-codecs-ffmpeg-extra.\n",
            "(Reading database ... 134443 files and directories currently installed.)\n",
            "Preparing to unpack .../chromium-codecs-ffmpeg-extra_80.0.3987.87-0ubuntu0.18.04.1_amd64.deb ...\n",
            "Unpacking chromium-codecs-ffmpeg-extra (80.0.3987.87-0ubuntu0.18.04.1) ...\n",
            "Selecting previously unselected package chromium-browser.\n",
            "Preparing to unpack .../chromium-browser_80.0.3987.87-0ubuntu0.18.04.1_amd64.deb ...\n",
            "Unpacking chromium-browser (80.0.3987.87-0ubuntu0.18.04.1) ...\n",
            "Selecting previously unselected package chromium-browser-l10n.\n",
            "Preparing to unpack .../chromium-browser-l10n_80.0.3987.87-0ubuntu0.18.04.1_all.deb ...\n",
            "Unpacking chromium-browser-l10n (80.0.3987.87-0ubuntu0.18.04.1) ...\n",
            "Selecting previously unselected package chromium-chromedriver.\n",
            "Preparing to unpack .../chromium-chromedriver_80.0.3987.87-0ubuntu0.18.04.1_amd64.deb ...\n",
            "Unpacking chromium-chromedriver (80.0.3987.87-0ubuntu0.18.04.1) ...\n",
            "Setting up chromium-codecs-ffmpeg-extra (80.0.3987.87-0ubuntu0.18.04.1) ...\n",
            "Setting up chromium-browser (80.0.3987.87-0ubuntu0.18.04.1) ...\n",
            "update-alternatives: using /usr/bin/chromium-browser to provide /usr/bin/x-www-browser (x-www-browser) in auto mode\n",
            "update-alternatives: using /usr/bin/chromium-browser to provide /usr/bin/gnome-www-browser (gnome-www-browser) in auto mode\n",
            "Setting up chromium-chromedriver (80.0.3987.87-0ubuntu0.18.04.1) ...\n",
            "Setting up chromium-browser-l10n (80.0.3987.87-0ubuntu0.18.04.1) ...\n",
            "Processing triggers for hicolor-icon-theme (0.17-2) ...\n",
            "Processing triggers for mime-support (3.60ubuntu1) ...\n",
            "Processing triggers for man-db (2.8.3-2ubuntu0.1) ...\n",
            "cp: '/usr/lib/chromium-browser/chromedriver' and '/usr/bin/chromedriver' are the same file\n"
          ],
          "name": "stdout"
        }
      ]
    },
    {
      "cell_type": "code",
      "metadata": {
        "id": "3mkd4TNQJwU9",
        "colab_type": "code",
        "colab": {}
      },
      "source": [
        "import requests\n",
        "from bs4 import BeautifulSoup\n",
        "from selenium import webdriver  # 웹로그인 통제\n",
        "from html_table_parser import parser_functions as prs\n",
        "  # 코랩에 설치되어있지 않은 경우 '!pip install 패키지'로 설치가 가능\n",
        "import pandas as pd\n",
        "import time\n",
        "# res.content"
      ],
      "execution_count": 0,
      "outputs": []
    },
    {
      "cell_type": "code",
      "metadata": {
        "id": "FCcst5GSM9lv",
        "colab_type": "code",
        "colab": {
          "base_uri": "https://localhost:8080/",
          "height": 35
        },
        "outputId": "dd85ac5f-ad85-4a1a-aa83-f65839b5d221"
      },
      "source": [
        "soup =  BeautifulSoup(res.content, 'html.parser')\n",
        "print(soup.find('title').get_text())\n",
        "# soup.find_all()"
      ],
      "execution_count": 50,
      "outputs": [
        {
          "output_type": "stream",
          "text": [
            "단계별로 풀어보기\n"
          ],
          "name": "stdout"
        }
      ]
    },
    {
      "cell_type": "code",
      "metadata": {
        "id": "wRNdTefzN2kG",
        "colab_type": "code",
        "colab": {
          "base_uri": "https://localhost:8080/",
          "height": 125
        },
        "outputId": "bfc56180-ac4a-4ece-ac62-511fbb260dc7"
      },
      "source": [
        "a = soup.select('div.table-responsive > table > tbody > tr > td')\n",
        "a"
      ],
      "execution_count": 47,
      "outputs": [
        {
          "output_type": "execute_result",
          "data": {
            "text/plain": [
              "[<td>1</td>,\n",
              " <td><a href=\"/step/1\">입출력과 사칙연산</a></td>,\n",
              " <td>입력, 출력과 사칙연산을 연습해 봅시다. Hello World!</td>,\n",
              " <td></td>,\n",
              " <td>11</td>,\n",
              " <td></td>]"
            ]
          },
          "metadata": {
            "tags": []
          },
          "execution_count": 47
        }
      ]
    },
    {
      "cell_type": "code",
      "metadata": {
        "id": "B8sgcgSte29j",
        "colab_type": "code",
        "colab": {
          "base_uri": "https://localhost:8080/",
          "height": 410
        },
        "outputId": "b19c1200-72e3-4278-feef-0929af06363d"
      },
      "source": [
        "\n",
        "\n",
        "b = soup.find(\"table\")\n",
        "tb1 = prs.make2d(b)\n",
        "tb2 = pd.DataFrame(tb1[1:], columns=tb1[0])\n",
        "tb2.head(10)"
      ],
      "execution_count": 49,
      "outputs": [
        {
          "output_type": "execute_result",
          "data": {
            "text/html": [
              "<div>\n",
              "<style scoped>\n",
              "    .dataframe tbody tr th:only-of-type {\n",
              "        vertical-align: middle;\n",
              "    }\n",
              "\n",
              "    .dataframe tbody tr th {\n",
              "        vertical-align: top;\n",
              "    }\n",
              "\n",
              "    .dataframe thead th {\n",
              "        text-align: right;\n",
              "    }\n",
              "</style>\n",
              "<table border=\"1\" class=\"dataframe\">\n",
              "  <thead>\n",
              "    <tr style=\"text-align: right;\">\n",
              "      <th></th>\n",
              "      <th>단계</th>\n",
              "      <th>제목</th>\n",
              "      <th>설명</th>\n",
              "      <th>정보</th>\n",
              "      <th>총 문제</th>\n",
              "      <th>내가 푼 문제</th>\n",
              "    </tr>\n",
              "  </thead>\n",
              "  <tbody>\n",
              "    <tr>\n",
              "      <th>0</th>\n",
              "      <td>1</td>\n",
              "      <td>입출력과 사칙연산</td>\n",
              "      <td>입력, 출력과 사칙연산을 연습해 봅시다. Hello World!</td>\n",
              "      <td></td>\n",
              "      <td>11</td>\n",
              "      <td></td>\n",
              "    </tr>\n",
              "    <tr>\n",
              "      <th>1</th>\n",
              "      <td>2</td>\n",
              "      <td>if문</td>\n",
              "      <td>if문을 사용해 봅시다.</td>\n",
              "      <td></td>\n",
              "      <td>5</td>\n",
              "      <td></td>\n",
              "    </tr>\n",
              "    <tr>\n",
              "      <th>2</th>\n",
              "      <td>3</td>\n",
              "      <td>for문</td>\n",
              "      <td>for문을 사용해 봅시다.</td>\n",
              "      <td></td>\n",
              "      <td>11</td>\n",
              "      <td></td>\n",
              "    </tr>\n",
              "    <tr>\n",
              "      <th>3</th>\n",
              "      <td>4</td>\n",
              "      <td>while문</td>\n",
              "      <td>while문을 사용해 봅시다.</td>\n",
              "      <td></td>\n",
              "      <td>3</td>\n",
              "      <td></td>\n",
              "    </tr>\n",
              "    <tr>\n",
              "      <th>4</th>\n",
              "      <td>5</td>\n",
              "      <td>실습 1</td>\n",
              "      <td>수정 예정</td>\n",
              "      <td></td>\n",
              "      <td>0</td>\n",
              "      <td></td>\n",
              "    </tr>\n",
              "    <tr>\n",
              "      <th>5</th>\n",
              "      <td>6</td>\n",
              "      <td>1차원 배열</td>\n",
              "      <td>배열을 사용해 봅시다.</td>\n",
              "      <td></td>\n",
              "      <td>7</td>\n",
              "      <td></td>\n",
              "    </tr>\n",
              "    <tr>\n",
              "      <th>6</th>\n",
              "      <td>7</td>\n",
              "      <td>함수</td>\n",
              "      <td>함수를 정의하면 코드가 깔끔해지고 관리하기 쉬워집니다.</td>\n",
              "      <td></td>\n",
              "      <td>3</td>\n",
              "      <td></td>\n",
              "    </tr>\n",
              "    <tr>\n",
              "      <th>7</th>\n",
              "      <td>8</td>\n",
              "      <td>문자열</td>\n",
              "      <td>문자열을 다루는 문제들을 해결해 봅시다.</td>\n",
              "      <td></td>\n",
              "      <td>10</td>\n",
              "      <td></td>\n",
              "    </tr>\n",
              "    <tr>\n",
              "      <th>8</th>\n",
              "      <td>9</td>\n",
              "      <td>수학 1</td>\n",
              "      <td>수학 문제로 수학적 사고력을 길러 봅시다.</td>\n",
              "      <td></td>\n",
              "      <td>8</td>\n",
              "      <td></td>\n",
              "    </tr>\n",
              "    <tr>\n",
              "      <th>9</th>\n",
              "      <td>10</td>\n",
              "      <td>수학 2</td>\n",
              "      <td>소수와 기하를 다뤄 봅시다.</td>\n",
              "      <td></td>\n",
              "      <td>10</td>\n",
              "      <td></td>\n",
              "    </tr>\n",
              "  </tbody>\n",
              "</table>\n",
              "</div>"
            ],
            "text/plain": [
              "   단계         제목                                   설명 정보 총 문제 내가 푼 문제\n",
              "0   1  입출력과 사칙연산  입력, 출력과 사칙연산을 연습해 봅시다. Hello World!      11        \n",
              "1   2        if문                        if문을 사용해 봅시다.       5        \n",
              "2   3       for문                       for문을 사용해 봅시다.      11        \n",
              "3   4     while문                     while문을 사용해 봅시다.       3        \n",
              "4   5       실습 1                                수정 예정       0        \n",
              "5   6     1차원 배열                         배열을 사용해 봅시다.       7        \n",
              "6   7         함수       함수를 정의하면 코드가 깔끔해지고 관리하기 쉬워집니다.       3        \n",
              "7   8        문자열               문자열을 다루는 문제들을 해결해 봅시다.      10        \n",
              "8   9       수학 1              수학 문제로 수학적 사고력을 길러 봅시다.       8        \n",
              "9  10       수학 2                      소수와 기하를 다뤄 봅시다.      10        "
            ]
          },
          "metadata": {
            "tags": []
          },
          "execution_count": 49
        }
      ]
    },
    {
      "cell_type": "code",
      "metadata": {
        "id": "fMq9Zttmfz9h",
        "colab_type": "code",
        "colab": {
          "base_uri": "https://localhost:8080/",
          "height": 484
        },
        "outputId": "6dd1331d-ac43-4790-84ec-0fb1b29904c9"
      },
      "source": [
        "# 로그인(HTTP : Cookie & Session)\n",
        "  # Cookie : Key-Value 형식으로 로컬브라우저에 저장\n",
        "  # Session : 서버가 클라이언트를 식별하기 위해 파일이나 DB에 저장된 임의의 긴 문자열\n",
        "  #           서버와 클라이언트의 연결이 끊어지면 삭제되도록하는 메모리 쿠키 사용\n",
        "login_url = 'https://www.acmicpc.net/login?next=%2Fstep'\n",
        "login_data = {\n",
        "    'login_user_id' : '',\n",
        "    'login_password' : ''\n",
        "}\n",
        "\n",
        "# with requests.Session() as s:\n",
        "#   res_login = s.post(login_url, data=login_data\n",
        "#                      , verify=False # SSL 인증서로 인해 발생하는 에러를 무시\n",
        "#                      , allow_redirects = False # 강제 리다이렉트를 해제\n",
        "#                      )\n",
        "#   redirect_cookie = res_login.headers['Set-Cookie']\n",
        "#   redirect_url = res_login.headers['Location']\n",
        "#   headers = {\"Cookie\": redirect_cookie}\n",
        "\n",
        "#   s.get(redirect_url, headers=headers)\n",
        "\n",
        "# html = s.get(url, headers=headers)\n",
        "# print(html)\n",
        "s = requests.Session()\n",
        "res_login = s.post(login_url, data=login_data\n",
        "                    , verify=False # SSL 인증서로 인해 발생하는 에러를 무시\n",
        "                    , allow_redirects = False # 강제 리다이렉트를 해제\n",
        "                    )\n",
        "print(res_login.headers)\n",
        "res_login.raise_for_status() # 로그인 오류시 알람\n",
        "\n",
        "res = requests.get('https://www.acmicpc.net/step')\n",
        "soup =  BeautifulSoup(res.content, 'html.parser')\n",
        "b = soup.find(\"table\")\n",
        "tb1 = prs.make2d(b)\n",
        "tb2 = pd.DataFrame(tb1[1:], columns=tb1[0])\n",
        "tb2.head(10)\n",
        "\n",
        "# params = dict()\n",
        "# params['m_id'] = userid\n",
        "  \n",
        "# params['m_passwd'] = pw\n",
        "  \n",
        "# 참고\n",
        "# https://beomi.github.io/gb-crawling/posts/2017-01-20-HowToMakeWebCrawler-With-Login.html\n",
        "# https://devlog.jwgo.kr/2018/02/21/how-to-get-login-session-in-python/"
      ],
      "execution_count": 64,
      "outputs": [
        {
          "output_type": "stream",
          "text": [
            "/usr/local/lib/python3.6/dist-packages/urllib3/connectionpool.py:847: InsecureRequestWarning: Unverified HTTPS request is being made. Adding certificate verification is strongly advised. See: https://urllib3.readthedocs.io/en/latest/advanced-usage.html#ssl-warnings\n",
            "  InsecureRequestWarning)\n"
          ],
          "name": "stderr"
        },
        {
          "output_type": "stream",
          "text": [
            "{'Date': 'Mon, 17 Feb 2020 15:00:42 GMT', 'Content-Type': 'text/html; charset=UTF-8', 'Content-Length': '6849', 'Connection': 'keep-alive', 'Server': 'Apache/2.4.29 (Ubuntu)', 'Set-Cookie': 'OnlineJudge=8gv9fa8peqrtvsf238v46tm43b; path=/; domain=.acmicpc.net; secure; HttpOnly', 'Expires': 'Thu, 19 Nov 1981 08:52:00 GMT', 'Cache-Control': 'no-store, no-cache, must-revalidate', 'Pragma': 'no-cache', 'X-Content-Type-Options': 'nosniff', 'X-Frame-Options': 'SAMEORIGIN', 'X-XSS-Protection': '1; mode=block', 'Referrer-Policy': 'strict-origin', 'Vary': 'Accept-Encoding', 'Content-Encoding': 'gzip'}\n"
          ],
          "name": "stdout"
        },
        {
          "output_type": "execute_result",
          "data": {
            "text/html": [
              "<div>\n",
              "<style scoped>\n",
              "    .dataframe tbody tr th:only-of-type {\n",
              "        vertical-align: middle;\n",
              "    }\n",
              "\n",
              "    .dataframe tbody tr th {\n",
              "        vertical-align: top;\n",
              "    }\n",
              "\n",
              "    .dataframe thead th {\n",
              "        text-align: right;\n",
              "    }\n",
              "</style>\n",
              "<table border=\"1\" class=\"dataframe\">\n",
              "  <thead>\n",
              "    <tr style=\"text-align: right;\">\n",
              "      <th></th>\n",
              "      <th>단계</th>\n",
              "      <th>제목</th>\n",
              "      <th>설명</th>\n",
              "      <th>정보</th>\n",
              "      <th>총 문제</th>\n",
              "      <th>내가 푼 문제</th>\n",
              "    </tr>\n",
              "  </thead>\n",
              "  <tbody>\n",
              "    <tr>\n",
              "      <th>0</th>\n",
              "      <td>1</td>\n",
              "      <td>입출력과 사칙연산</td>\n",
              "      <td>입력, 출력과 사칙연산을 연습해 봅시다. Hello World!</td>\n",
              "      <td></td>\n",
              "      <td>11</td>\n",
              "      <td></td>\n",
              "    </tr>\n",
              "    <tr>\n",
              "      <th>1</th>\n",
              "      <td>2</td>\n",
              "      <td>if문</td>\n",
              "      <td>if문을 사용해 봅시다.</td>\n",
              "      <td></td>\n",
              "      <td>5</td>\n",
              "      <td></td>\n",
              "    </tr>\n",
              "    <tr>\n",
              "      <th>2</th>\n",
              "      <td>3</td>\n",
              "      <td>for문</td>\n",
              "      <td>for문을 사용해 봅시다.</td>\n",
              "      <td></td>\n",
              "      <td>11</td>\n",
              "      <td></td>\n",
              "    </tr>\n",
              "    <tr>\n",
              "      <th>3</th>\n",
              "      <td>4</td>\n",
              "      <td>while문</td>\n",
              "      <td>while문을 사용해 봅시다.</td>\n",
              "      <td></td>\n",
              "      <td>3</td>\n",
              "      <td></td>\n",
              "    </tr>\n",
              "    <tr>\n",
              "      <th>4</th>\n",
              "      <td>5</td>\n",
              "      <td>실습 1</td>\n",
              "      <td>수정 예정</td>\n",
              "      <td></td>\n",
              "      <td>0</td>\n",
              "      <td></td>\n",
              "    </tr>\n",
              "    <tr>\n",
              "      <th>5</th>\n",
              "      <td>6</td>\n",
              "      <td>1차원 배열</td>\n",
              "      <td>배열을 사용해 봅시다.</td>\n",
              "      <td></td>\n",
              "      <td>7</td>\n",
              "      <td></td>\n",
              "    </tr>\n",
              "    <tr>\n",
              "      <th>6</th>\n",
              "      <td>7</td>\n",
              "      <td>함수</td>\n",
              "      <td>함수를 정의하면 코드가 깔끔해지고 관리하기 쉬워집니다.</td>\n",
              "      <td></td>\n",
              "      <td>3</td>\n",
              "      <td></td>\n",
              "    </tr>\n",
              "    <tr>\n",
              "      <th>7</th>\n",
              "      <td>8</td>\n",
              "      <td>문자열</td>\n",
              "      <td>문자열을 다루는 문제들을 해결해 봅시다.</td>\n",
              "      <td></td>\n",
              "      <td>10</td>\n",
              "      <td></td>\n",
              "    </tr>\n",
              "    <tr>\n",
              "      <th>8</th>\n",
              "      <td>9</td>\n",
              "      <td>수학 1</td>\n",
              "      <td>수학 문제로 수학적 사고력을 길러 봅시다.</td>\n",
              "      <td></td>\n",
              "      <td>8</td>\n",
              "      <td></td>\n",
              "    </tr>\n",
              "    <tr>\n",
              "      <th>9</th>\n",
              "      <td>10</td>\n",
              "      <td>수학 2</td>\n",
              "      <td>소수와 기하를 다뤄 봅시다.</td>\n",
              "      <td></td>\n",
              "      <td>10</td>\n",
              "      <td></td>\n",
              "    </tr>\n",
              "  </tbody>\n",
              "</table>\n",
              "</div>"
            ],
            "text/plain": [
              "   단계         제목                                   설명 정보 총 문제 내가 푼 문제\n",
              "0   1  입출력과 사칙연산  입력, 출력과 사칙연산을 연습해 봅시다. Hello World!      11        \n",
              "1   2        if문                        if문을 사용해 봅시다.       5        \n",
              "2   3       for문                       for문을 사용해 봅시다.      11        \n",
              "3   4     while문                     while문을 사용해 봅시다.       3        \n",
              "4   5       실습 1                                수정 예정       0        \n",
              "5   6     1차원 배열                         배열을 사용해 봅시다.       7        \n",
              "6   7         함수       함수를 정의하면 코드가 깔끔해지고 관리하기 쉬워집니다.       3        \n",
              "7   8        문자열               문자열을 다루는 문제들을 해결해 봅시다.      10        \n",
              "8   9       수학 1              수학 문제로 수학적 사고력을 길러 봅시다.       8        \n",
              "9  10       수학 2                      소수와 기하를 다뤄 봅시다.      10        "
            ]
          },
          "metadata": {
            "tags": []
          },
          "execution_count": 64
        }
      ]
    },
    {
      "cell_type": "code",
      "metadata": {
        "id": "G3YhuEEygLRp",
        "colab_type": "code",
        "colab": {
          "base_uri": "https://localhost:8080/",
          "height": 35
        },
        "outputId": "a6c6cd34-5d62-4cf3-e820-eeaab67a2c7b"
      },
      "source": [
        "s"
      ],
      "execution_count": 58,
      "outputs": [
        {
          "output_type": "execute_result",
          "data": {
            "text/plain": [
              "<requests.sessions.Session at 0x7f5f106be3c8>"
            ]
          },
          "metadata": {
            "tags": []
          },
          "execution_count": 58
        }
      ]
    },
    {
      "cell_type": "code",
      "metadata": {
        "id": "_v_nva_7sIis",
        "colab_type": "code",
        "colab": {
          "base_uri": "https://localhost:8080/",
          "height": 73
        },
        "outputId": "5ef404b8-593a-440f-9a07-82fbe895c737"
      },
      "source": [
        "import sys\n",
        "sys.path.insert(0,'/usr/lib/chromium-browser/chromedriver')\n",
        "from selenium import webdriver\n",
        "chrome_options = webdriver.ChromeOptions()\n",
        "chrome_options.add_argument('--headless')    # headless 모드\n",
        "chrome_options.add_argument('--no-sandbox')  # headless 모드아니면 의미 없음\n",
        "chrome_options.add_argument('--disable-dev-shm-usage')  # 코드 없으면 headless 모드시 log가 많이 표시\n",
        "wd = webdriver.Chrome('chromedriver', chrome_options=chrome_options)\n",
        "# 코랩에서 셀레니움 웹드라이버 : https://stackoverflow.com/questions/51046454/how-can-we-use-selenium-webdriver-in-colab-research-google-com"
      ],
      "execution_count": 8,
      "outputs": [
        {
          "output_type": "stream",
          "text": [
            "/usr/local/lib/python3.6/dist-packages/ipykernel_launcher.py:8: DeprecationWarning: use options instead of chrome_options\n",
            "  \n"
          ],
          "name": "stderr"
        }
      ]
    },
    {
      "cell_type": "code",
      "metadata": {
        "id": "wtWEpw4PrN11",
        "colab_type": "code",
        "colab": {
          "base_uri": "https://localhost:8080/",
          "height": 35
        },
        "outputId": "b9d1c45a-e2b3-4205-e681-c0c3d674d1b2"
      },
      "source": [
        "wd.get('https://www.acmicpc.net/login?next=%2F')\n",
        "time.sleep(5) # 임시적 딜레이\n",
        "wd.find_element_by_name('login_user_id').send_keys('') # ID 입력\n",
        "time.sleep(5) # 임시적 딜레이\n",
        "wd.find_element_by_name('login_password').send_keys('') # PW 입력\n",
        "time.sleep(5) # 임시적 딜레이\n",
        "wd.find_element_by_xpath('//*[@id=\"submit_button\"]').click()\n",
        "time.sleep(5)\n",
        "# wd.implicitly_wait(60) # 임시적 딜레이\n",
        "wd.save_screenshot(\"test2.png\")\n",
        "\n",
        "wd.get('https://www.acmicpc.net/step')\n",
        "# print(wd.page_source)\n",
        "wd.save_screenshot(\"test.png\")\n",
        "\n",
        "\n",
        "# wd.implicitly_wait(2) # 임시적 딜레이\n",
        "# html = wd.page_source\n",
        "# soup =  BeautifulSoup(html, 'html.parser')\n",
        "# b = soup.find(\"table\")\n",
        "# tb1 = prs.make2d(b)\n",
        "# tb2 = pd.DataFrame(tb1[1:], columns=tb1[0])\n",
        "# tb2.head(10)\n",
        "\n",
        "# wd.quit()"
      ],
      "execution_count": 20,
      "outputs": [
        {
          "output_type": "execute_result",
          "data": {
            "text/plain": [
              "True"
            ]
          },
          "metadata": {
            "tags": []
          },
          "execution_count": 20
        }
      ]
    },
    {
      "cell_type": "code",
      "metadata": {
        "id": "Wzmm8SGeuAdO",
        "colab_type": "code",
        "colab": {}
      },
      "source": [
        ""
      ],
      "execution_count": 0,
      "outputs": []
    }
  ]
}