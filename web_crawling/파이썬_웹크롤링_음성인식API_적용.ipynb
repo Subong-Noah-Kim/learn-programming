{
  "nbformat": 4,
  "nbformat_minor": 0,
  "metadata": {
    "colab": {
      "name": "파이썬 웹크롤링_음성인식API 적용.ipynb",
      "provenance": [],
      "authorship_tag": "ABX9TyNOPpSJepdQp/ubIlyZfJde",
      "include_colab_link": true
    },
    "kernelspec": {
      "name": "python3",
      "display_name": "Python 3"
    }
  },
  "cells": [
    {
      "cell_type": "markdown",
      "metadata": {
        "id": "view-in-github",
        "colab_type": "text"
      },
      "source": [
        "<a href=\"https://colab.research.google.com/github/Subong-Noah-Kim/study-programming/blob/master/web_crawling/%ED%8C%8C%EC%9D%B4%EC%8D%AC_%EC%9B%B9%ED%81%AC%EB%A1%A4%EB%A7%81_%EC%9D%8C%EC%84%B1%EC%9D%B8%EC%8B%9DAPI_%EC%A0%81%EC%9A%A9.ipynb\" target=\"_parent\"><img src=\"https://colab.research.google.com/assets/colab-badge.svg\" alt=\"Open In Colab\"/></a>"
      ]
    },
    {
      "cell_type": "code",
      "metadata": {
        "id": "3to0VAV6Fvqr",
        "colab_type": "code",
        "colab": {
          "base_uri": "https://localhost:8080/",
          "height": 439
        },
        "outputId": "33cc4a4b-4fe8-4c9f-ae14-d523ea96d992"
      },
      "source": [
        "# https://github.com/eastee/rebreakcaptcha 에서 pull\n",
        "\n",
        "import requests\n",
        "import io\n",
        "import random\n",
        "import time\n",
        "import os\n",
        "import sys\n",
        "\n",
        "# Speech Recognition Imports\n",
        "from pydub import AudioSegment\n",
        "import speech_recognition as sr\n",
        "\n",
        "# Selenium\n",
        "from selenium.webdriver.firefox.firefox_binary import FirefoxBinary\n",
        "from selenium.common.exceptions import NoSuchElementException\n",
        "from selenium import webdriver\n",
        "\n",
        "# check if using python 3\n",
        "if sys.version_info[0] > 3:\n",
        "    xrange = range\n",
        "\n",
        "# Firefox / Gecko Driver Related\n",
        "FIREFOX_BIN_PATH = r\"/usr/lib/chromium-browser/chromedriver\" # \"C:\\Program Files (x86)\\Mozilla Firefox\\firefox.exe\"\n",
        "GECKODRIVER_BIN = r\"C:\\geckodriver.exe\"\n",
        "\n",
        "# Randomization Related\n",
        "MIN_RAND        = 0.64\n",
        "MAX_RAND        = 1.27\n",
        "LONG_MIN_RAND   = 4.78\n",
        "LONG_MAX_RAND   = 11.1\n",
        "\n",
        "NUMBER_OF_ITERATIONS = 100\n",
        "RECAPTCHA_PAGE_URL = \"https://www.google.com/recaptcha/api2/demo\"\n",
        "\n",
        "HOUNDIFY_CLIENT_ID = \"{YOUR_CLIENT_ID}\"\n",
        "HOUNDIFY_CLIENT_KEY = \"{YOUR_CLIENT_KEY}\"\n",
        "\n",
        "DIGITS_DICT = {\n",
        "                \"zero\": \"0\",\n",
        "                \"one\": \"1\",\n",
        "                \"two\": \"2\",\n",
        "                \"three\": \"3\",\n",
        "                \"four\": \"4\",\n",
        "                \"five\": \"5\",\n",
        "                \"six\": \"6\",\n",
        "                \"seven\": \"7\",\n",
        "                \"eight\": \"8\",\n",
        "                \"nine\": \"9\",\n",
        "                }\n",
        "                \n",
        "class rebreakcaptcha(object):\n",
        "    def __init__(self):\n",
        "        os.environ[\"PATH\"] += os.pathsep + GECKODRIVER_BIN\n",
        "        self.driver = webdriver.Firefox(firefox_binary=FirefoxBinary(FIREFOX_BIN_PATH))\n",
        "        \n",
        "    def is_exists_by_xpath(self, xpath):\n",
        "        try:\n",
        "            self.driver.find_element_by_xpath(xpath)\n",
        "        except NoSuchElementException:\n",
        "            return False\n",
        "        return True\n",
        "        \n",
        "    def get_recaptcha_challenge(self):\n",
        "        while 1:\n",
        "            # Navigate to a ReCaptcha page\n",
        "            self.driver.get(RECAPTCHA_PAGE_URL)\n",
        "            time.sleep(random.uniform(MIN_RAND, MAX_RAND))\n",
        "            \n",
        "            # Get all the iframes on the page\n",
        "            iframes = self.driver.find_elements_by_tag_name(\"iframe\")\n",
        "            \n",
        "            # Switch focus to ReCaptcha iframe\n",
        "            self.driver.switch_to_frame(iframes[0])\n",
        "            time.sleep(random.uniform(MIN_RAND, MAX_RAND))\n",
        "            \n",
        "            # Verify ReCaptcha checkbox is present\n",
        "            if not self.is_exists_by_xpath('//div[@class=\"recaptcha-checkbox-checkmark\" and @role=\"presentation\"]'):\n",
        "                print(\"[{0}] No element in the frame!!\".format(self.current_iteration))\n",
        "                continue\n",
        "            \n",
        "            # Click on ReCaptcha checkbox\n",
        "            self.driver.find_element_by_xpath('//div[@class=\"recaptcha-checkbox-checkmark\" and @role=\"presentation\"]').click()\n",
        "            time.sleep(random.uniform(LONG_MIN_RAND, LONG_MAX_RAND))\n",
        "        \n",
        "            # Check if the ReCaptcha has no challenge\n",
        "            if self.is_exists_by_xpath('//span[@aria-checked=\"true\"]'):\n",
        "                print(\"[{0}] ReCaptcha has no challenge. Trying again!\".format(self.current_iteration))\n",
        "            else:\n",
        "                return\n",
        "            \n",
        "    def get_audio_challenge(self, iframes):\n",
        "        # Switch to the last iframe (the new one)\n",
        "        self.driver.switch_to_frame(iframes[-1])\n",
        "        \n",
        "        # Check if the audio challenge button is present\n",
        "        if not self.is_exists_by_xpath('//button[@id=\"recaptcha-audio-button\"]'):\n",
        "            print(\"[{0}] No element of audio challenge!!\".format(self.current_iteration))\n",
        "            return False\n",
        "        \n",
        "        print(\"[{0}] Clicking on audio challenge\".format(self.current_iteration))\n",
        "        # Click on the audio challenge button\n",
        "        self.driver.find_element_by_xpath('//button[@id=\"recaptcha-audio-button\"]').click()\n",
        "        time.sleep(random.uniform(LONG_MIN_RAND, LONG_MAX_RAND))\n",
        "    \n",
        "    def get_challenge_audio(self, url):\n",
        "        # Download the challenge audio and store in memory\n",
        "        request = requests.get(url)\n",
        "        audio_file = io.BytesIO(request.content)\n",
        "        \n",
        "        # Convert the audio to a compatible format in memory\n",
        "        converted_audio = io.BytesIO()\n",
        "        sound = AudioSegment.from_mp3(audio_file)\n",
        "        sound.export(converted_audio, format=\"wav\")\n",
        "        converted_audio.seek(0)\n",
        "        \n",
        "        return converted_audio\n",
        "        \n",
        "    def string_to_digits(self, recognized_string):\n",
        "        return ''.join([DIGITS_DICT.get(word, \"\") for word in recognized_string.split(\" \")])\n",
        "    \n",
        "    def speech_to_text(self, audio_source):\n",
        "        # Initialize a new recognizer with the audio in memory as source\n",
        "        recognizer = sr.Recognizer()\n",
        "        with sr.AudioFile(audio_source) as source:\n",
        "            audio = recognizer.record(source) # read the entire audio file\n",
        "\n",
        "        audio_output = \"\"\n",
        "        # recognize speech using Google Speech Recognition\n",
        "        try:\n",
        "            audio_output = recognizer.recognize_google(audio)\n",
        "            print(\"[{0}] Google Speech Recognition: \".format(self.current_iteration) + audio_output)\n",
        "            # Check if we got harder audio captcha\n",
        "            if any(character.isalpha() for character in audio_output):\n",
        "                # Use Houndify to detect the harder audio captcha\n",
        "                print(\"[{0}] Fallback to Houndify!\".format(self.current_iteration))\n",
        "                audio_output = self.string_to_digits(recognizer.recognize_houndify(audio, client_id=HOUNDIFY_CLIENT_ID, client_key=HOUNDIFY_CLIENT_KEY))\n",
        "                print(\"[{0}] Houndify: \".format(self.current_iteration) + audio_output)\n",
        "        except sr.UnknownValueError:\n",
        "            print(\"[{0}] Google Speech Recognition could not understand audio\".format(self.current_iteration))\n",
        "        except sr.RequestError as e:\n",
        "            print(\"[{0}] Could not request results from Google Speech Recognition service; {1}\".format(self.current_iteration).format(e))\n",
        "            \n",
        "        return audio_output\n",
        "    \n",
        "    def solve_audio_challenge(self):\n",
        "        # Verify audio challenge download button is present\n",
        "        if not self.is_exists_by_xpath('//a[@class=\"rc-audiochallenge-download-link\"]') and \\\n",
        "                not self.is_exists_by_xpath('//div[@class=\"rc-text-challenge\"]'):\n",
        "            print(\"[{0}] No element in audio challenge download link!!\".format(self.current_iteration))\n",
        "            return False\n",
        "        \n",
        "        # If text challenge - reload the challenge\n",
        "        while self.is_exists_by_xpath('//div[@class=\"rc-text-challenge\"]'):\n",
        "            print(\"[{0}] Got a text challenge! Reloading!\".format(self.current_iteration))\n",
        "            self.driver.find_element_by_id('recaptcha-reload-button').click()\n",
        "            time.sleep(random.uniform(MIN_RAND, MAX_RAND))\n",
        "\n",
        "        # Get the audio challenge URI from the download link\n",
        "        download_object = self.driver.find_element_by_xpath('//a[@class=\"rc-audiochallenge-download-link\"]')\n",
        "        download_link = download_object.get_attribute('href')\n",
        "        \n",
        "        # Get the challenge audio to send to Google\n",
        "        converted_audio = self.get_challenge_audio(download_link)\n",
        "        \n",
        "        # Send the audio to Google Speech Recognition API and get the output\n",
        "        audio_output = self.speech_to_text(converted_audio)\n",
        "\n",
        "        # Enter the audio challenge solution\n",
        "        self.driver.find_element_by_id('audio-response').send_keys(audio_output)\n",
        "        time.sleep(random.uniform(LONG_MIN_RAND, LONG_MAX_RAND))\n",
        "\n",
        "        # Click on verify\n",
        "        self.driver.find_element_by_id('recaptcha-verify-button').click()\n",
        "        time.sleep(random.uniform(LONG_MIN_RAND, LONG_MAX_RAND))\n",
        "        \n",
        "        return True\n",
        "            \n",
        "    def solve(self, current_iteration):\n",
        "        self.current_iteration = current_iteration + 1\n",
        "        \n",
        "        # Get a ReCaptcha Challenge\n",
        "        self.get_recaptcha_challenge()\n",
        "        \n",
        "        # Switch to page's main frame\n",
        "        self.driver.switch_to.default_content()\n",
        "                \n",
        "        # Get all the iframes on the page again- there is a new one with a challenge\n",
        "        iframes = self.driver.find_elements_by_tag_name(\"iframe\")\n",
        "        \n",
        "        # Get audio challenge\n",
        "        self.get_audio_challenge(iframes)\n",
        "        \n",
        "        # Solve the audio challenge\n",
        "        if not self.solve_audio_challenge():\n",
        "            return False\n",
        "        \n",
        "        # Check if there is another audio challenge and solve it too\n",
        "        while self.is_exists_by_xpath('//div[@class=\"rc-audiochallenge-error-message\"]') and \\\n",
        "                self.is_exists_by_xpath('//div[contains(text(), \"Multiple correct solutions required\")]'):\n",
        "            print(\"[{0}] Need to solve more. Let's do this!\".format(self.current_iteration))\n",
        "            self.solve_audio_challenge()\n",
        "            \n",
        "        # Switch to the ReCaptcha iframe to verify it is solved\n",
        "        self.driver.switch_to.default_content()\n",
        "        self.driver.switch_to_frame(iframes[0])\n",
        "        \n",
        "        return self.is_exists_by_xpath('//span[@aria-checked=\"true\"]')\n",
        "                \n",
        "def main():\n",
        "    rebreakcaptcha_obj = rebreakcaptcha()\n",
        "    \n",
        "    counter = 0\n",
        "    for i in xrange(NUMBER_OF_ITERATIONS):\n",
        "        if rebreakcaptcha_obj.solve(i):\n",
        "            counter += 1\n",
        "            \n",
        "        time.sleep(random.uniform(LONG_MIN_RAND, LONG_MAX_RAND))\n",
        "        print(\"Successful breaks: {0}\".format(counter))\n",
        "        \n",
        "    print(\"Total successful breaks: {0}\\{1}\".format(counter, NUMBER_OF_ITERATIONS))\n",
        "\n",
        "if __name__ == '__main__':\n",
        "    main()"
      ],
      "execution_count": 20,
      "outputs": [
        {
          "output_type": "error",
          "ename": "WebDriverException",
          "evalue": "ignored",
          "traceback": [
            "\u001b[0;31m---------------------------------------------------------------------------\u001b[0m",
            "\u001b[0;31mFileNotFoundError\u001b[0m                         Traceback (most recent call last)",
            "\u001b[0;32m/usr/local/lib/python3.6/dist-packages/selenium/webdriver/common/service.py\u001b[0m in \u001b[0;36mstart\u001b[0;34m(self)\u001b[0m\n\u001b[1;32m     75\u001b[0m                                             \u001b[0mstderr\u001b[0m\u001b[0;34m=\u001b[0m\u001b[0mself\u001b[0m\u001b[0;34m.\u001b[0m\u001b[0mlog_file\u001b[0m\u001b[0;34m,\u001b[0m\u001b[0;34m\u001b[0m\u001b[0;34m\u001b[0m\u001b[0m\n\u001b[0;32m---> 76\u001b[0;31m                                             stdin=PIPE)\n\u001b[0m\u001b[1;32m     77\u001b[0m         \u001b[0;32mexcept\u001b[0m \u001b[0mTypeError\u001b[0m\u001b[0;34m:\u001b[0m\u001b[0;34m\u001b[0m\u001b[0;34m\u001b[0m\u001b[0m\n",
            "\u001b[0;32m/usr/lib/python3.6/subprocess.py\u001b[0m in \u001b[0;36m__init__\u001b[0;34m(self, args, bufsize, executable, stdin, stdout, stderr, preexec_fn, close_fds, shell, cwd, env, universal_newlines, startupinfo, creationflags, restore_signals, start_new_session, pass_fds, encoding, errors)\u001b[0m\n\u001b[1;32m    728\u001b[0m                                 \u001b[0merrread\u001b[0m\u001b[0;34m,\u001b[0m \u001b[0merrwrite\u001b[0m\u001b[0;34m,\u001b[0m\u001b[0;34m\u001b[0m\u001b[0;34m\u001b[0m\u001b[0m\n\u001b[0;32m--> 729\u001b[0;31m                                 restore_signals, start_new_session)\n\u001b[0m\u001b[1;32m    730\u001b[0m         \u001b[0;32mexcept\u001b[0m\u001b[0;34m:\u001b[0m\u001b[0;34m\u001b[0m\u001b[0;34m\u001b[0m\u001b[0m\n",
            "\u001b[0;32m/usr/lib/python3.6/subprocess.py\u001b[0m in \u001b[0;36m_execute_child\u001b[0;34m(self, args, executable, preexec_fn, close_fds, pass_fds, cwd, env, startupinfo, creationflags, shell, p2cread, p2cwrite, c2pread, c2pwrite, errread, errwrite, restore_signals, start_new_session)\u001b[0m\n\u001b[1;32m   1363\u001b[0m                             \u001b[0merr_msg\u001b[0m \u001b[0;34m+=\u001b[0m \u001b[0;34m': '\u001b[0m \u001b[0;34m+\u001b[0m \u001b[0mrepr\u001b[0m\u001b[0;34m(\u001b[0m\u001b[0merr_filename\u001b[0m\u001b[0;34m)\u001b[0m\u001b[0;34m\u001b[0m\u001b[0;34m\u001b[0m\u001b[0m\n\u001b[0;32m-> 1364\u001b[0;31m                     \u001b[0;32mraise\u001b[0m \u001b[0mchild_exception_type\u001b[0m\u001b[0;34m(\u001b[0m\u001b[0merrno_num\u001b[0m\u001b[0;34m,\u001b[0m \u001b[0merr_msg\u001b[0m\u001b[0;34m,\u001b[0m \u001b[0merr_filename\u001b[0m\u001b[0;34m)\u001b[0m\u001b[0;34m\u001b[0m\u001b[0;34m\u001b[0m\u001b[0m\n\u001b[0m\u001b[1;32m   1365\u001b[0m                 \u001b[0;32mraise\u001b[0m \u001b[0mchild_exception_type\u001b[0m\u001b[0;34m(\u001b[0m\u001b[0merr_msg\u001b[0m\u001b[0;34m)\u001b[0m\u001b[0;34m\u001b[0m\u001b[0;34m\u001b[0m\u001b[0m\n",
            "\u001b[0;31mFileNotFoundError\u001b[0m: [Errno 2] No such file or directory: 'geckodriver': 'geckodriver'",
            "\nDuring handling of the above exception, another exception occurred:\n",
            "\u001b[0;31mWebDriverException\u001b[0m                        Traceback (most recent call last)",
            "\u001b[0;32m<ipython-input-20-44501b69c892>\u001b[0m in \u001b[0;36m<module>\u001b[0;34m()\u001b[0m\n\u001b[1;32m    218\u001b[0m \u001b[0;34m\u001b[0m\u001b[0m\n\u001b[1;32m    219\u001b[0m \u001b[0;32mif\u001b[0m \u001b[0m__name__\u001b[0m \u001b[0;34m==\u001b[0m \u001b[0;34m'__main__'\u001b[0m\u001b[0;34m:\u001b[0m\u001b[0;34m\u001b[0m\u001b[0;34m\u001b[0m\u001b[0m\n\u001b[0;32m--> 220\u001b[0;31m     \u001b[0mmain\u001b[0m\u001b[0;34m(\u001b[0m\u001b[0;34m)\u001b[0m\u001b[0;34m\u001b[0m\u001b[0;34m\u001b[0m\u001b[0m\n\u001b[0m",
            "\u001b[0;32m<ipython-input-20-44501b69c892>\u001b[0m in \u001b[0;36mmain\u001b[0;34m()\u001b[0m\n\u001b[1;32m    205\u001b[0m \u001b[0;34m\u001b[0m\u001b[0m\n\u001b[1;32m    206\u001b[0m \u001b[0;32mdef\u001b[0m \u001b[0mmain\u001b[0m\u001b[0;34m(\u001b[0m\u001b[0;34m)\u001b[0m\u001b[0;34m:\u001b[0m\u001b[0;34m\u001b[0m\u001b[0;34m\u001b[0m\u001b[0m\n\u001b[0;32m--> 207\u001b[0;31m     \u001b[0mrebreakcaptcha_obj\u001b[0m \u001b[0;34m=\u001b[0m \u001b[0mrebreakcaptcha\u001b[0m\u001b[0;34m(\u001b[0m\u001b[0;34m)\u001b[0m\u001b[0;34m\u001b[0m\u001b[0;34m\u001b[0m\u001b[0m\n\u001b[0m\u001b[1;32m    208\u001b[0m \u001b[0;34m\u001b[0m\u001b[0m\n\u001b[1;32m    209\u001b[0m     \u001b[0mcounter\u001b[0m \u001b[0;34m=\u001b[0m \u001b[0;36m0\u001b[0m\u001b[0;34m\u001b[0m\u001b[0;34m\u001b[0m\u001b[0m\n",
            "\u001b[0;32m<ipython-input-20-44501b69c892>\u001b[0m in \u001b[0;36m__init__\u001b[0;34m(self)\u001b[0m\n\u001b[1;32m     51\u001b[0m     \u001b[0;32mdef\u001b[0m \u001b[0m__init__\u001b[0m\u001b[0;34m(\u001b[0m\u001b[0mself\u001b[0m\u001b[0;34m)\u001b[0m\u001b[0;34m:\u001b[0m\u001b[0;34m\u001b[0m\u001b[0;34m\u001b[0m\u001b[0m\n\u001b[1;32m     52\u001b[0m         \u001b[0mos\u001b[0m\u001b[0;34m.\u001b[0m\u001b[0menviron\u001b[0m\u001b[0;34m[\u001b[0m\u001b[0;34m\"PATH\"\u001b[0m\u001b[0;34m]\u001b[0m \u001b[0;34m+=\u001b[0m \u001b[0mos\u001b[0m\u001b[0;34m.\u001b[0m\u001b[0mpathsep\u001b[0m \u001b[0;34m+\u001b[0m \u001b[0mGECKODRIVER_BIN\u001b[0m\u001b[0;34m\u001b[0m\u001b[0;34m\u001b[0m\u001b[0m\n\u001b[0;32m---> 53\u001b[0;31m         \u001b[0mself\u001b[0m\u001b[0;34m.\u001b[0m\u001b[0mdriver\u001b[0m \u001b[0;34m=\u001b[0m \u001b[0mwebdriver\u001b[0m\u001b[0;34m.\u001b[0m\u001b[0mFirefox\u001b[0m\u001b[0;34m(\u001b[0m\u001b[0mfirefox_binary\u001b[0m\u001b[0;34m=\u001b[0m\u001b[0mFirefoxBinary\u001b[0m\u001b[0;34m(\u001b[0m\u001b[0mFIREFOX_BIN_PATH\u001b[0m\u001b[0;34m)\u001b[0m\u001b[0;34m)\u001b[0m\u001b[0;34m\u001b[0m\u001b[0;34m\u001b[0m\u001b[0m\n\u001b[0m\u001b[1;32m     54\u001b[0m \u001b[0;34m\u001b[0m\u001b[0m\n\u001b[1;32m     55\u001b[0m     \u001b[0;32mdef\u001b[0m \u001b[0mis_exists_by_xpath\u001b[0m\u001b[0;34m(\u001b[0m\u001b[0mself\u001b[0m\u001b[0;34m,\u001b[0m \u001b[0mxpath\u001b[0m\u001b[0;34m)\u001b[0m\u001b[0;34m:\u001b[0m\u001b[0;34m\u001b[0m\u001b[0;34m\u001b[0m\u001b[0m\n",
            "\u001b[0;32m/usr/local/lib/python3.6/dist-packages/selenium/webdriver/firefox/webdriver.py\u001b[0m in \u001b[0;36m__init__\u001b[0;34m(self, firefox_profile, firefox_binary, timeout, capabilities, proxy, executable_path, options, service_log_path, firefox_options, service_args, desired_capabilities, log_path, keep_alive)\u001b[0m\n\u001b[1;32m    162\u001b[0m                 \u001b[0mservice_args\u001b[0m\u001b[0;34m=\u001b[0m\u001b[0mservice_args\u001b[0m\u001b[0;34m,\u001b[0m\u001b[0;34m\u001b[0m\u001b[0;34m\u001b[0m\u001b[0m\n\u001b[1;32m    163\u001b[0m                 log_path=service_log_path)\n\u001b[0;32m--> 164\u001b[0;31m             \u001b[0mself\u001b[0m\u001b[0;34m.\u001b[0m\u001b[0mservice\u001b[0m\u001b[0;34m.\u001b[0m\u001b[0mstart\u001b[0m\u001b[0;34m(\u001b[0m\u001b[0;34m)\u001b[0m\u001b[0;34m\u001b[0m\u001b[0;34m\u001b[0m\u001b[0m\n\u001b[0m\u001b[1;32m    165\u001b[0m \u001b[0;34m\u001b[0m\u001b[0m\n\u001b[1;32m    166\u001b[0m             \u001b[0mcapabilities\u001b[0m\u001b[0;34m.\u001b[0m\u001b[0mupdate\u001b[0m\u001b[0;34m(\u001b[0m\u001b[0moptions\u001b[0m\u001b[0;34m.\u001b[0m\u001b[0mto_capabilities\u001b[0m\u001b[0;34m(\u001b[0m\u001b[0;34m)\u001b[0m\u001b[0;34m)\u001b[0m\u001b[0;34m\u001b[0m\u001b[0;34m\u001b[0m\u001b[0m\n",
            "\u001b[0;32m/usr/local/lib/python3.6/dist-packages/selenium/webdriver/common/service.py\u001b[0m in \u001b[0;36mstart\u001b[0;34m(self)\u001b[0m\n\u001b[1;32m     81\u001b[0m                 raise WebDriverException(\n\u001b[1;32m     82\u001b[0m                     \"'%s' executable needs to be in PATH. %s\" % (\n\u001b[0;32m---> 83\u001b[0;31m                         os.path.basename(self.path), self.start_error_message)\n\u001b[0m\u001b[1;32m     84\u001b[0m                 )\n\u001b[1;32m     85\u001b[0m             \u001b[0;32melif\u001b[0m \u001b[0merr\u001b[0m\u001b[0;34m.\u001b[0m\u001b[0merrno\u001b[0m \u001b[0;34m==\u001b[0m \u001b[0merrno\u001b[0m\u001b[0;34m.\u001b[0m\u001b[0mEACCES\u001b[0m\u001b[0;34m:\u001b[0m\u001b[0;34m\u001b[0m\u001b[0;34m\u001b[0m\u001b[0m\n",
            "\u001b[0;31mWebDriverException\u001b[0m: Message: 'geckodriver' executable needs to be in PATH. \n"
          ]
        }
      ]
    },
    {
      "cell_type": "code",
      "metadata": {
        "id": "3LUzBUVhIP-w",
        "colab_type": "code",
        "colab": {}
      },
      "source": [
        ""
      ],
      "execution_count": 0,
      "outputs": []
    },
    {
      "cell_type": "code",
      "metadata": {
        "id": "N7cdSnliF4He",
        "colab_type": "code",
        "colab": {
          "base_uri": "https://localhost:8080/",
          "height": 87
        },
        "outputId": "08bf7af5-3bf4-4d2a-a4d6-1be1cf11f857"
      },
      "source": [
        "!pip install pydub\n",
        "!pip install SpeechRecognition\n",
        "!pip install Selenium\n",
        "!apt-get update # to update ubuntu to correctly run apt install\n",
        "!apt install chromium-chromedriver\n",
        "!cp /usr/lib/chromium-browser/chromedriver /usr/bin\n",
        "!pip install html_table_parser"
      ],
      "execution_count": 2,
      "outputs": [
        {
          "output_type": "stream",
          "text": [
            "Collecting pydub\n",
            "  Downloading https://files.pythonhosted.org/packages/79/db/eaf620b73a1eec3c8c6f8f5b0b236a50f9da88ad57802154b7ba7664d0b8/pydub-0.23.1-py2.py3-none-any.whl\n",
            "Installing collected packages: pydub\n",
            "Successfully installed pydub-0.23.1\n"
          ],
          "name": "stdout"
        }
      ]
    },
    {
      "cell_type": "code",
      "metadata": {
        "id": "1P28rhNKF8ez",
        "colab_type": "code",
        "colab": {}
      },
      "source": [
        "\n",
        "import sys\n",
        "sys.path.insert(0,'/usr/lib/chromium-browser/chromedriver')"
      ],
      "execution_count": 0,
      "outputs": []
    },
    {
      "cell_type": "code",
      "metadata": {
        "id": "HqJ70muHGCEO",
        "colab_type": "code",
        "colab": {
          "base_uri": "https://localhost:8080/",
          "height": 34
        },
        "outputId": "a8e877b0-e347-469d-eb59-c89409fd7ee9"
      },
      "source": [
        "!python --version"
      ],
      "execution_count": 7,
      "outputs": [
        {
          "output_type": "stream",
          "text": [
            "Python 3.6.9\n"
          ],
          "name": "stdout"
        }
      ]
    },
    {
      "cell_type": "code",
      "metadata": {
        "id": "adTpalOgGb8K",
        "colab_type": "code",
        "colab": {
          "base_uri": "https://localhost:8080/",
          "height": 34
        },
        "outputId": "13cf53d5-351b-4b67-8852-b4e48081066c"
      },
      "source": [
        "!pip install -r requirements.txt"
      ],
      "execution_count": 16,
      "outputs": [
        {
          "output_type": "stream",
          "text": [
            "\u001b[31mERROR: Could not open requirements file: [Errno 2] No such file or directory: 'requirements.txt'\u001b[0m\n"
          ],
          "name": "stdout"
        }
      ]
    },
    {
      "cell_type": "code",
      "metadata": {
        "id": "gZruxlUPIHQM",
        "colab_type": "code",
        "colab": {}
      },
      "source": [
        ""
      ],
      "execution_count": 0,
      "outputs": []
    }
  ]
}