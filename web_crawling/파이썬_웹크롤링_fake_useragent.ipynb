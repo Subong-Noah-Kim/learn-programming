{
  "nbformat": 4,
  "nbformat_minor": 0,
  "metadata": {
    "colab": {
      "name": "파이썬 웹크롤링_fake_useragent.ipynb",
      "provenance": [],
      "authorship_tag": "ABX9TyN43XwZxxuQmF4TA/65YpnH",
      "include_colab_link": true
    },
    "kernelspec": {
      "name": "python3",
      "display_name": "Python 3"
    }
  },
  "cells": [
    {
      "cell_type": "markdown",
      "metadata": {
        "id": "view-in-github",
        "colab_type": "text"
      },
      "source": [
        "<a href=\"https://colab.research.google.com/github/Subong-Noah-Kim/study-programming/blob/master/web_crawling/%ED%8C%8C%EC%9D%B4%EC%8D%AC_%EC%9B%B9%ED%81%AC%EB%A1%A4%EB%A7%81_fake_useragent.ipynb\" target=\"_parent\"><img src=\"https://colab.research.google.com/assets/colab-badge.svg\" alt=\"Open In Colab\"/></a>"
      ]
    },
    {
      "cell_type": "code",
      "metadata": {
        "id": "MDCcJXvR9B1f",
        "colab_type": "code",
        "colab": {}
      },
      "source": [
        "# 로그인 - 셀레니움\n",
        "  # 코랩에서 셀레니움 사용을 위해 여러가지 설치함\n",
        "  # 아래 코드셀의 추가과정 필요\n",
        "!pip install selenium\n",
        "!apt-get update # to update ubuntu to correctly run apt install\n",
        "!apt install chromium-chromedriver\n",
        "!cp /usr/lib/chromium-browser/chromedriver /usr/bin\n",
        "\n",
        "!pip install html_table_parser"
      ],
      "execution_count": 0,
      "outputs": []
    },
    {
      "cell_type": "code",
      "metadata": {
        "id": "OXOa5V_O9Be5",
        "colab_type": "code",
        "colab": {}
      },
      "source": [
        "import requests\n",
        "from bs4 import BeautifulSoup\n",
        "import json\n",
        "from selenium import webdriver  # 웹로그인 통제\n",
        "import time"
      ],
      "execution_count": 0,
      "outputs": []
    },
    {
      "cell_type": "code",
      "metadata": {
        "id": "PTjjVo6u9GxO",
        "colab_type": "code",
        "colab": {
          "base_uri": "https://localhost:8080/",
          "height": 90
        },
        "outputId": "65bd40e4-caa3-4f1c-ab71-6540b0924e14"
      },
      "source": [
        "from fake_useragent import UserAgent\n",
        "import sys\n",
        "sys.path.insert(0,'/usr/lib/chromium-browser/chromedriver')\n",
        "from selenium import webdriver\n",
        "chrome_options = webdriver.ChromeOptions()\n",
        "chrome_options.add_argument('--headless')    # headless 모드\n",
        "chrome_options.add_argument('--no-sandbox')  # headless 모드아니면 의미 없음\n",
        "chrome_options.add_argument('--disable-dev-shm-usage')  # 코드 없으면 headless 모드시 log가 많이 표시\n",
        "# chrome_options.add_argument(\"User-Agent=Mozilla/5.0 (Macintosh; Intel Mac OS X 10_9_5) AppleWebKIt 537.36 (KHTML, like Gecko) Chrome\")  # 캡차방지를 위한 가짜헤더 옵션추가\n",
        "ua = UserAgent()\n",
        "userAgent = ua.random\n",
        "print(userAgent)\n",
        "chrome_options.add_argument(f'user-agent={userAgent}')\n",
        "# https://stackoverflow.com/questions/49565042/way-to-change-google-chrome-user-agent-in-selenium/49565254#49565254\n",
        "wd = webdriver.Chrome('chromedriver', chrome_options=chrome_options)\n",
        "# 코랩에서 셀레니움 웹드라이버 : https://stackoverflow.com/questions/51046454/how-can-we-use-selenium-webdriver-in-colab-research-google-com"
      ],
      "execution_count": 15,
      "outputs": [
        {
          "output_type": "stream",
          "text": [
            "Mozilla/5.0 (Windows NT 6.2; WOW64) AppleWebKit/537.36 (KHTML, like Gecko) Chrome/27.0.1500.55 Safari/537.36\n"
          ],
          "name": "stdout"
        },
        {
          "output_type": "stream",
          "text": [
            "/usr/local/lib/python3.6/dist-packages/ipykernel_launcher.py:14: DeprecationWarning: use options instead of chrome_options\n",
            "  \n"
          ],
          "name": "stderr"
        }
      ]
    },
    {
      "cell_type": "code",
      "metadata": {
        "id": "Zg1x0NJy9bO9",
        "colab_type": "code",
        "colab": {
          "base_uri": "https://localhost:8080/",
          "height": 34
        },
        "outputId": "dd07b2e5-6fea-4d59-d7be-c3c7f57e7ace"
      },
      "source": [
        "wd.get('https://www.acmicpc.net/login?next=%2F')\n",
        "time.sleep(3) # 임시적 딜레이\n",
        "wd.find_element_by_name('login_user_id').send_keys('') # ID 입력\n",
        "time.sleep(3) # 임시적 딜레이\n",
        "wd.find_element_by_name('login_password').send_keys('') # PW 입력\n",
        "time.sleep(3) # 임시적 딜레이\n",
        "wd.find_element_by_xpath('//*[@id=\"submit_button\"]').click()\n",
        "time.sleep(10)\n",
        "# wd.implicitly_wait(60) # 임시적 딜레이\n",
        "wd.save_screenshot(\"test_login.png\") # 웹화면 캡처\n",
        "\n",
        "wd.get('https://www.acmicpc.net/step')\n",
        "# print(wd.page_source)\n",
        "wd.save_screenshot(\"test.png\")\n",
        "\n",
        "\n",
        "# wd.implicitly_wait(2) # 임시적 딜레이\n",
        "# html = wd.page_source\n",
        "# soup =  BeautifulSoup(html, 'html.parser')\n",
        "# b = soup.find(\"table\")\n",
        "# tb1 = prs.make2d(b)\n",
        "# tb2 = pd.DataFrame(tb1[1:], columns=tb1[0])\n",
        "# tb2.head(10)\n",
        "\n",
        "# wd.quit()"
      ],
      "execution_count": 16,
      "outputs": [
        {
          "output_type": "execute_result",
          "data": {
            "text/plain": [
              "True"
            ]
          },
          "metadata": {
            "tags": []
          },
          "execution_count": 16
        }
      ]
    },
    {
      "cell_type": "code",
      "metadata": {
        "id": "cGDEpmcE9eZC",
        "colab_type": "code",
        "colab": {
          "base_uri": "https://localhost:8080/",
          "height": 195
        },
        "outputId": "51007388-572c-49ad-ea81-1e25ad4c1e33"
      },
      "source": [
        "!pip install fake_useragent"
      ],
      "execution_count": 7,
      "outputs": [
        {
          "output_type": "stream",
          "text": [
            "Collecting fake_useragent\n",
            "  Downloading https://files.pythonhosted.org/packages/d1/79/af647635d6968e2deb57a208d309f6069d31cb138066d7e821e575112a80/fake-useragent-0.1.11.tar.gz\n",
            "Building wheels for collected packages: fake-useragent\n",
            "  Building wheel for fake-useragent (setup.py) ... \u001b[?25l\u001b[?25hdone\n",
            "  Created wheel for fake-useragent: filename=fake_useragent-0.1.11-cp36-none-any.whl size=13484 sha256=ee2c42ed188157332bbcb482f1ff15e5f3e78ac8b14f54a54fe9688bd472211b\n",
            "  Stored in directory: /root/.cache/pip/wheels/5e/63/09/d1dc15179f175357d3f5c00cbffbac37f9e8690d80545143ff\n",
            "Successfully built fake-useragent\n",
            "Installing collected packages: fake-useragent\n",
            "Successfully installed fake-useragent-0.1.11\n"
          ],
          "name": "stdout"
        }
      ]
    }
  ]
}