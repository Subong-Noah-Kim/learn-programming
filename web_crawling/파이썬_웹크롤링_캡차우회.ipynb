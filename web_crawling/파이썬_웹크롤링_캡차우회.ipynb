{
  "nbformat": 4,
  "nbformat_minor": 0,
  "metadata": {
    "colab": {
      "name": "Untitled",
      "provenance": [],
      "authorship_tag": "ABX9TyPjWwTJkdLXYQG6KtfNnmaf",
      "include_colab_link": true
    },
    "kernelspec": {
      "name": "python3",
      "display_name": "Python 3"
    }
  },
  "cells": [
    {
      "cell_type": "markdown",
      "metadata": {
        "id": "view-in-github",
        "colab_type": "text"
      },
      "source": [
        "<a href=\"https://colab.research.google.com/github/Subong-Noah-Kim/study-programming/blob/master/web_crawling/%ED%8C%8C%EC%9D%B4%EC%8D%AC_%EC%9B%B9%ED%81%AC%EB%A1%A4%EB%A7%81_%EC%BA%A1%EC%B0%A8%EC%9A%B0%ED%9A%8C.ipynb\" target=\"_parent\"><img src=\"https://colab.research.google.com/assets/colab-badge.svg\" alt=\"Open In Colab\"/></a>"
      ]
    },
    {
      "cell_type": "markdown",
      "metadata": {
        "id": "Yrjk1jJlzoQs",
        "colab_type": "text"
      },
      "source": [
        "셀레니움을 이용해 로그인하는 과정에서 봇탐지에 걸릴 수 있다.\n",
        "이를 해결하기 위한 방안을 모색하고자 한다.\n",
        "\n",
        "1. 헤더 탐지 우회\n",
        "  - urllib 같은 대중적인 라이브러리는 헤더에 python이라고 적혀있어, 대부분 차단당한다. 이에 헤더를 사람처럼 보이도록 가짜 헤더를 구성한다.\n",
        "    - 아래 웹사이트는 실제 어떤 브라우저를 쓰고있는지 확인해주는 사이트이다.\n",
        "    - 참고 : https://m.blog.naver.com/PostView.nhn?blogId=shino1025&logNo=221305380045&proxyReferer=https%3A%2F%2Fwww.google.com%2F"
      ]
    },
    {
      "cell_type": "code",
      "metadata": {
        "id": "34UKR5pq5HbA",
        "colab_type": "code",
        "colab": {}
      },
      "source": [
        ""
      ],
      "execution_count": 0,
      "outputs": []
    },
    {
      "cell_type": "markdown",
      "metadata": {
        "id": "q3nItNSW5HwP",
        "colab_type": "text"
      },
      "source": [
        ""
      ]
    },
    {
      "cell_type": "code",
      "metadata": {
        "id": "lL9Kmr7OzgDW",
        "colab_type": "code",
        "colab": {}
      },
      "source": [
        "import requests\n",
        "from bs4 import BeautifulSoup\n",
        "import json\n",
        "from selenium import webdriver  # 웹로그인 통제\n",
        "import time"
      ],
      "execution_count": 0,
      "outputs": []
    },
    {
      "cell_type": "code",
      "metadata": {
        "id": "YJrsXMWn0JBO",
        "colab_type": "code",
        "outputId": "dd82038c-88a4-41c4-de37-03f246e16194",
        "colab": {
          "base_uri": "https://localhost:8080/",
          "height": 424
        }
      },
      "source": [
        "ss = requests.Session()\n",
        "header = {\"User-Agent\":\"Mozilla/5.0 (Macintosh; Intel Mac OS X 10_9_5)\\\n",
        "          AppleWebKIt 537.36 (KHTML, like Gecko) Chrome\",\n",
        "          \"Accept\":\"text/html,application/xhtml+xml,application/xml;\\\n",
        "\t\t\tq=0.9,imgwebp,*/*;q=0.8\"}\n",
        "\n",
        "url = \"https://www.whatismybrowser.com/developers/what-http-headers-is-my-\\\n",
        "browser-sending\"\n",
        "\n",
        "req = ss.get(url,headers=header)\n",
        "bs0bj = BeautifulSoup(req.text, \"html.parser\")\n",
        "print(bs0bj.find(\"table\",{\"class\":\"table-striped\"}).get_text)\n"
      ],
      "execution_count": 34,
      "outputs": [
        {
          "output_type": "stream",
          "text": [
            "<bound method Tag.get_text of <table class=\"table table-striped\">\n",
            "<tr>\n",
            "<th>ACCEPT</th>\n",
            "<td>text/html,application/xhtml+xml,application/xml;\t\t\tq=0.9,imgwebp,*/*;q=0.8</td>\n",
            "</tr>\n",
            "<tr>\n",
            "<th>ACCEPT-ENCODING</th>\n",
            "<td>gzip, deflate</td>\n",
            "</tr>\n",
            "<tr>\n",
            "<th>CONNECTION</th>\n",
            "<td>keep-alive</td>\n",
            "</tr>\n",
            "<tr>\n",
            "<th>HOST</th>\n",
            "<td>www.whatismybrowser.com</td>\n",
            "</tr>\n",
            "<tr>\n",
            "<th>USER-AGENT</th>\n",
            "<td>Mozilla/5.0 (Macintosh; Intel Mac OS X 10_9_5)          AppleWebKIt 537.36 (KHTML, like Gecko) Chrome</td>\n",
            "</tr>\n",
            "</table>>\n"
          ],
          "name": "stdout"
        }
      ]
    },
    {
      "cell_type": "code",
      "metadata": {
        "id": "5Fyrc4tI1M_m",
        "colab_type": "code",
        "colab": {}
      },
      "source": [
        ""
      ],
      "execution_count": 0,
      "outputs": []
    },
    {
      "cell_type": "markdown",
      "metadata": {
        "id": "bYoxldtG1OHp",
        "colab_type": "text"
      },
      "source": [
        "2. 쿠키 처리하기\n",
        "  - 일반적으로 사람이 브라우저를 통해 접속하면 쿠키가 생성된다.\n",
        "  - 봇으로 접근하는 경우는 쿠키가 생성되지 않을 수 있음  \n",
        "    -> 이를 방지하기 위해 셀레니움을 활용\n"
      ]
    },
    {
      "cell_type": "markdown",
      "metadata": {
        "id": "JzAFNmC71N9o",
        "colab_type": "text"
      },
      "source": [
        ""
      ]
    },
    {
      "cell_type": "code",
      "metadata": {
        "id": "2xDl_dRZ5LyO",
        "colab_type": "code",
        "colab": {
          "base_uri": "https://localhost:8080/",
          "height": 142
        },
        "outputId": "425bffac-8a72-4ceb-99a2-c9a4c086ff41"
      },
      "source": [
        "!pip install selenium"
      ],
      "execution_count": 7,
      "outputs": [
        {
          "output_type": "stream",
          "text": [
            "Collecting selenium\n",
            "\u001b[?25l  Downloading https://files.pythonhosted.org/packages/80/d6/4294f0b4bce4de0abf13e17190289f9d0613b0a44e5dd6a7f5ca98459853/selenium-3.141.0-py2.py3-none-any.whl (904kB)\n",
            "\u001b[K     |████████████████████████████████| 911kB 2.9MB/s \n",
            "\u001b[?25hRequirement already satisfied: urllib3 in /usr/local/lib/python3.6/dist-packages (from selenium) (1.24.3)\n",
            "Installing collected packages: selenium\n",
            "Successfully installed selenium-3.141.0\n"
          ],
          "name": "stdout"
        }
      ]
    },
    {
      "cell_type": "code",
      "metadata": {
        "id": "eEeVXiB35uxE",
        "colab_type": "code",
        "colab": {}
      },
      "source": [
        "# 로그인 - 셀레니움\n",
        "  # 코랩에서 셀레니움 사용을 위해 여러가지 설치함\n",
        "  # 아래 코드셀의 추가과정 필요\n",
        "!pip install selenium\n",
        "!apt-get update # to update ubuntu to correctly run apt install\n",
        "!apt install chromium-chromedriver\n",
        "!cp /usr/lib/chromium-browser/chromedriver /usr/bin\n",
        "\n",
        "!pip install html_table_parser"
      ],
      "execution_count": 0,
      "outputs": []
    },
    {
      "cell_type": "code",
      "metadata": {
        "id": "lvRz0ezO5fdR",
        "colab_type": "code",
        "colab": {
          "base_uri": "https://localhost:8080/",
          "height": 72
        },
        "outputId": "7be0a43f-e367-47c5-b22d-38a05a225866"
      },
      "source": [
        "import sys\n",
        "sys.path.insert(0,'/usr/lib/chromium-browser/chromedriver')\n",
        "from selenium import webdriver\n",
        "chrome_options = webdriver.ChromeOptions()\n",
        "chrome_options.add_argument('--headless')    # headless 모드\n",
        "chrome_options.add_argument('--no-sandbox')  # headless 모드아니면 의미 없음\n",
        "chrome_options.add_argument('--disable-dev-shm-usage')  # 코드 없으면 headless 모드시 log가 많이 표시\n",
        "chrome_options.add_argument(\"User-Agent=Mozilla/5.0 (Macintosh; Intel Mac OS X 10_9_5) AppleWebKIt 537.36 (KHTML, like Gecko) Chrome\")  # 캡차방지를 위한 가짜헤더 옵션추가\n",
        "wd = webdriver.Chrome('chromedriver', chrome_options=chrome_options)\n",
        "# 코랩에서 셀레니움 웹드라이버 : https://stackoverflow.com/questions/51046454/how-can-we-use-selenium-webdriver-in-colab-research-google-com"
      ],
      "execution_count": 42,
      "outputs": [
        {
          "output_type": "stream",
          "text": [
            "/usr/local/lib/python3.6/dist-packages/ipykernel_launcher.py:9: DeprecationWarning: use options instead of chrome_options\n",
            "  if __name__ == '__main__':\n"
          ],
          "name": "stderr"
        }
      ]
    },
    {
      "cell_type": "code",
      "metadata": {
        "id": "1QKy8HxA5m69",
        "colab_type": "code",
        "colab": {
          "base_uri": "https://localhost:8080/",
          "height": 34
        },
        "outputId": "7fe898c5-5a18-4fc5-b149-5c352f3fd4fb"
      },
      "source": [
        ""
      ],
      "execution_count": 15,
      "outputs": [
        {
          "output_type": "execute_result",
          "data": {
            "text/plain": [
              "True"
            ]
          },
          "metadata": {
            "tags": []
          },
          "execution_count": 15
        }
      ]
    },
    {
      "cell_type": "code",
      "metadata": {
        "id": "jNOS0wT89ID8",
        "colab_type": "code",
        "colab": {
          "base_uri": "https://localhost:8080/",
          "height": 34
        },
        "outputId": "6f3df51c-19a9-4be4-d144-3d7c5107866c"
      },
      "source": [
        "wd.get('https://www.acmicpc.net/login?next=%2F')\n",
        "time.sleep(10) # 임시적 딜레이\n",
        "wd.find_element_by_name('login_user_id').send_keys('') # ID 입력\n",
        "time.sleep(10) # 임시적 딜레이\n",
        "wd.find_element_by_name('login_password').send_keys('') # PW 입력\n",
        "time.sleep(10) # 임시적 딜레이\n",
        "wd.find_element_by_xpath('//*[@id=\"submit_button\"]').click()\n",
        "time.sleep(30)\n",
        "# wd.implicitly_wait(60) # 임시적 딜레이\n",
        "wd.save_screenshot(\"test_login.png\") # 웹화면 캡처\n",
        "\n",
        "wd.get('https://www.acmicpc.net/step')\n",
        "# print(wd.page_source)\n",
        "wd.save_screenshot(\"test.png\")\n",
        "\n",
        "\n",
        "# wd.implicitly_wait(2) # 임시적 딜레이\n",
        "# html = wd.page_source\n",
        "# soup =  BeautifulSoup(html, 'html.parser')\n",
        "# b = soup.find(\"table\")\n",
        "# tb1 = prs.make2d(b)\n",
        "# tb2 = pd.DataFrame(tb1[1:], columns=tb1[0])\n",
        "# tb2.head(10)\n",
        "\n",
        "# wd.quit()"
      ],
      "execution_count": 46,
      "outputs": [
        {
          "output_type": "execute_result",
          "data": {
            "text/plain": [
              "True"
            ]
          },
          "metadata": {
            "tags": []
          },
          "execution_count": 46
        }
      ]
    },
    {
      "cell_type": "code",
      "metadata": {
        "id": "FT9fSsF56UVj",
        "colab_type": "code",
        "colab": {
          "base_uri": "https://localhost:8080/",
          "height": 34
        },
        "outputId": "c7e7088c-4cf8-488a-ac90-8ee66ef85092"
      },
      "source": [
        "wd.get('https://www.whatismybrowser.com/')\n",
        "wd.save_screenshot(\"test_browser.png\")"
      ],
      "execution_count": 45,
      "outputs": [
        {
          "output_type": "execute_result",
          "data": {
            "text/plain": [
              "True"
            ]
          },
          "metadata": {
            "tags": []
          },
          "execution_count": 45
        }
      ]
    },
    {
      "cell_type": "code",
      "metadata": {
        "id": "W0kVUQkI7tuQ",
        "colab_type": "code",
        "colab": {}
      },
      "source": [
        ""
      ],
      "execution_count": 0,
      "outputs": []
    },
    {
      "cell_type": "code",
      "metadata": {
        "id": "g3gv2vae7qhB",
        "colab_type": "code",
        "colab": {}
      },
      "source": [
        ""
      ],
      "execution_count": 0,
      "outputs": []
    }
  ]
}