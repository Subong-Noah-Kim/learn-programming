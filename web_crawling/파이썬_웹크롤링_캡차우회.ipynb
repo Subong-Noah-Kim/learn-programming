{
  "nbformat": 4,
  "nbformat_minor": 0,
  "metadata": {
    "colab": {
      "name": "파이썬_웹크롤링_캡차우회.ipynb의 사본",
      "provenance": [],
      "collapsed_sections": [],
      "authorship_tag": "ABX9TyM87RtPr5qN0uaWrJzg38Yw",
      "include_colab_link": true
    },
    "kernelspec": {
      "name": "python3",
      "display_name": "Python 3"
    }
  },
  "cells": [
    {
      "cell_type": "markdown",
      "metadata": {
        "id": "view-in-github",
        "colab_type": "text"
      },
      "source": [
        "<a href=\"https://colab.research.google.com/github/Subong-Noah-Kim/study-programming/blob/master/web_crawling/%ED%8C%8C%EC%9D%B4%EC%8D%AC_%EC%9B%B9%ED%81%AC%EB%A1%A4%EB%A7%81_%EC%BA%A1%EC%B0%A8%EC%9A%B0%ED%9A%8C.ipynb\" target=\"_parent\"><img src=\"https://colab.research.google.com/assets/colab-badge.svg\" alt=\"Open In Colab\"/></a>"
      ]
    },
    {
      "cell_type": "markdown",
      "metadata": {
        "id": "Yrjk1jJlzoQs",
        "colab_type": "text"
      },
      "source": [
        "셀레니움을 이용해 로그인하는 과정에서 봇탐지에 걸릴 수 있다.\n",
        "이를 해결하기 위한 방안을 모색하고자 한다.\n",
        "\n",
        "1. 헤더 탐지 우회\n",
        "  - urllib 같은 대중적인 라이브러리는 헤더에 python이라고 적혀있어, 대부분 차단당한다. 이에 헤더를 사람처럼 보이도록 가짜 헤더를 구성한다.\n",
        "    - 아래 웹사이트는 실제 어떤 브라우저를 쓰고있는지 확인해주는 사이트이다.\n",
        "    - 참고 : https://m.blog.naver.com/PostView.nhn?blogId=shino1025&logNo=221305380045&proxyReferer=https%3A%2F%2Fwww.google.com%2F"
      ]
    },
    {
      "cell_type": "code",
      "metadata": {
        "id": "lL9Kmr7OzgDW",
        "colab_type": "code",
        "colab": {}
      },
      "source": [
        "import requests\n",
        "from bs4 import BeautifulSoup\n",
        "import json"
      ],
      "execution_count": 0,
      "outputs": []
    },
    {
      "cell_type": "code",
      "metadata": {
        "id": "YJrsXMWn0JBO",
        "colab_type": "code",
        "outputId": "3b2af603-565c-4e3a-8886-c76c07f25c8e",
        "colab": {
          "base_uri": "https://localhost:8080/",
          "height": 424
        }
      },
      "source": [
        "ss = requests.Session()\n",
        "header = {\"User-Agent\":\"Mozilla/5.0 (Macintosh; Intel Mac OS X 10_9_5)\\\n",
        "          AppleWebKIt 537.36 (KHTML, like Gecko) Chrome\",\n",
        "          \"Accept\":\"text/html,application/xhtml+xml,application/xml;\\\n",
        "\t\t\tq=0.9,imgwebp,*/*;q=0.8\"}\n",
        "\n",
        "url = \"https://www.whatismybrowser.com/developers/what-http-headers-is-my-\\\n",
        "browser-sending\"\n",
        "\n",
        "req = ss.get(url,headers=header)\n",
        "bs0bj = BeautifulSoup(req.text, \"html.parser\")\n",
        "print(bs0bj.find(\"table\",{\"class\":\"table-striped\"}).get_text)\n"
      ],
      "execution_count": 0,
      "outputs": [
        {
          "output_type": "stream",
          "text": [
            "<bound method Tag.get_text of <table class=\"table table-striped\">\n",
            "<tr>\n",
            "<th>ACCEPT</th>\n",
            "<td>text/html,application/xhtml+xml,application/xml;\t\t\tq=0.9,imgwebp,*/*;q=0.8</td>\n",
            "</tr>\n",
            "<tr>\n",
            "<th>ACCEPT-ENCODING</th>\n",
            "<td>gzip, deflate</td>\n",
            "</tr>\n",
            "<tr>\n",
            "<th>CONNECTION</th>\n",
            "<td>keep-alive</td>\n",
            "</tr>\n",
            "<tr>\n",
            "<th>HOST</th>\n",
            "<td>www.whatismybrowser.com</td>\n",
            "</tr>\n",
            "<tr>\n",
            "<th>USER-AGENT</th>\n",
            "<td>Mozilla/5.0 (Macintosh; Intel Mac OS X 10_9_5)          AppleWebKIt 537.36 (KHTML, like Gecko) Chrome</td>\n",
            "</tr>\n",
            "</table>>\n"
          ],
          "name": "stdout"
        }
      ]
    },
    {
      "cell_type": "code",
      "metadata": {
        "id": "5Fyrc4tI1M_m",
        "colab_type": "code",
        "colab": {}
      },
      "source": [
        ""
      ],
      "execution_count": 0,
      "outputs": []
    },
    {
      "cell_type": "markdown",
      "metadata": {
        "id": "bYoxldtG1OHp",
        "colab_type": "text"
      },
      "source": [
        "2. 쿠키 처리하기\n",
        "  - 일반적으로 사람이 브라우저를 통해 접속하면 쿠키가 생성된다.\n",
        "  - 봇으로 접근하는 경우는 쿠키가 생성되지 않을 수 있음  \n",
        "    -> 이를 방지하기 위해 셀레니움을 활용\n"
      ]
    },
    {
      "cell_type": "markdown",
      "metadata": {
        "id": "JzAFNmC71N9o",
        "colab_type": "text"
      },
      "source": [
        ""
      ]
    }
  ]
}